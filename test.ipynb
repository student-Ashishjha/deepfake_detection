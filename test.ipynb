{
 "cells": [
  {
   "cell_type": "code",
   "execution_count": 2,
   "metadata": {},
   "outputs": [],
   "source": [
    "# import warnings\n",
    "# warnings.filterwarnings(\"ignore\", category=Warning)\n",
    "\n",
    "\n",
    "# import numpy as np\n",
    "# import cv2\n",
    "# import tensorflow as tf\n",
    "\n",
    "# import features\n",
    "\n",
    "\n",
    "\n",
    "# # # load model\n",
    "# # saved_model = load_model('./saved_models/deepfake.keras')\n",
    "\n",
    "# # to play video for display\n",
    "# def play_video(file_path):\n",
    "#     from IPython.display import Video\n",
    "#     return Video(file_path,embed=True)"
   ]
  },
  {
   "cell_type": "code",
   "execution_count": 2,
   "metadata": {},
   "outputs": [],
   "source": [
    "# # video display:\n",
    "\n",
    "# video = './test_clip.mp4'\n",
    "# play_video(video)"
   ]
  },
  {
   "cell_type": "code",
   "execution_count": 3,
   "metadata": {},
   "outputs": [],
   "source": [
    "# # prediction:\n",
    "# video = './test_clip.mp4'\n",
    "# pred = features.video_classifier(video)\n",
    "\n",
    "# if(pred==1):\n",
    "#     print(\"Deepfake\")\n",
    "# elif(pred==0):\n",
    "#     print(\"Real\")\n",
    "# else:\n",
    "#     print(\"No face\")"
   ]
  },
  {
   "cell_type": "code",
   "execution_count": 1,
   "metadata": {},
   "outputs": [],
   "source": [
    "# features.image_classifier('image.jpg')"
   ]
  }
 ],
 "metadata": {
  "kernelspec": {
   "display_name": "venv",
   "language": "python",
   "name": "python3"
  },
  "language_info": {
   "codemirror_mode": {
    "name": "ipython",
    "version": 3
   },
   "file_extension": ".py",
   "mimetype": "text/x-python",
   "name": "python",
   "nbconvert_exporter": "python",
   "pygments_lexer": "ipython3",
   "version": "3.11.2"
  }
 },
 "nbformat": 4,
 "nbformat_minor": 2
}
