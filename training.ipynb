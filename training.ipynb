{
 "cells": [
  {
   "cell_type": "code",
   "execution_count": 1,
   "id": "0ecbb814",
   "metadata": {
    "execution": {
     "iopub.execute_input": "2024-05-03T04:27:49.706576Z",
     "iopub.status.busy": "2024-05-03T04:27:49.706211Z",
     "iopub.status.idle": "2024-05-03T04:28:03.000595Z",
     "shell.execute_reply": "2024-05-03T04:28:02.999612Z"
    },
    "papermill": {
     "duration": 13.304788,
     "end_time": "2024-05-03T04:28:03.003092",
     "exception": false,
     "start_time": "2024-05-03T04:27:49.698304",
     "status": "completed"
    },
    "tags": []
   },
   "outputs": [
    {
     "name": "stderr",
     "output_type": "stream",
     "text": [
      "2024-05-03 04:27:52.361759: E external/local_xla/xla/stream_executor/cuda/cuda_dnn.cc:9261] Unable to register cuDNN factory: Attempting to register factory for plugin cuDNN when one has already been registered\n",
      "2024-05-03 04:27:52.361856: E external/local_xla/xla/stream_executor/cuda/cuda_fft.cc:607] Unable to register cuFFT factory: Attempting to register factory for plugin cuFFT when one has already been registered\n",
      "2024-05-03 04:27:52.486507: E external/local_xla/xla/stream_executor/cuda/cuda_blas.cc:1515] Unable to register cuBLAS factory: Attempting to register factory for plugin cuBLAS when one has already been registered\n"
     ]
    }
   ],
   "source": [
    "%%capture\n",
    "import os\n",
    "import numpy as np\n",
    "import pandas as pd\n",
    "import cv2\n",
    "from tqdm.notebook import tqdm_notebook\n",
    "import tensorflow as tf\n",
    "from tensorflow.keras.preprocessing.image import ImageDataGenerator, img_to_array, load_img\n",
    "from tensorflow.keras.utils import to_categorical\n",
    "from sklearn.model_selection import train_test_split"
   ]
  },
  {
   "cell_type": "code",
   "execution_count": 2,
   "id": "44227977",
   "metadata": {
    "execution": {
     "iopub.execute_input": "2024-05-03T04:28:03.017487Z",
     "iopub.status.busy": "2024-05-03T04:28:03.016908Z",
     "iopub.status.idle": "2024-05-03T04:28:03.021159Z",
     "shell.execute_reply": "2024-05-03T04:28:03.020317Z"
    },
    "papermill": {
     "duration": 0.013221,
     "end_time": "2024-05-03T04:28:03.022964",
     "exception": false,
     "start_time": "2024-05-03T04:28:03.009743",
     "status": "completed"
    },
    "tags": []
   },
   "outputs": [],
   "source": [
    "input_dir = '/kaggle/input'\n",
    "output_dir = '/kaggle/working'\n",
    "working_dir = '/kaggle/working'"
   ]
  },
  {
   "cell_type": "code",
   "execution_count": 3,
   "id": "ab16b0e5",
   "metadata": {
    "execution": {
     "iopub.execute_input": "2024-05-03T04:28:03.035882Z",
     "iopub.status.busy": "2024-05-03T04:28:03.035607Z",
     "iopub.status.idle": "2024-05-03T04:28:03.977460Z",
     "shell.execute_reply": "2024-05-03T04:28:03.976443Z"
    },
    "papermill": {
     "duration": 0.951118,
     "end_time": "2024-05-03T04:28:03.979969",
     "exception": false,
     "start_time": "2024-05-03T04:28:03.028851",
     "status": "completed"
    },
    "tags": []
   },
   "outputs": [
    {
     "name": "stdout",
     "output_type": "stream",
     "text": [
      "ffhq-face-data-set\n",
      "person-face-dataset-thispersondoesnotexist\n",
      "\n",
      "Real image count: 70000\n",
      "Fake image count: 10000\n"
     ]
    }
   ],
   "source": [
    "%%bash\n",
    "ls /kaggle/input\n",
    "echo\n",
    "real_img_count=`ls /kaggle/input/ffhq-face-data-set/thumbnails128x128 | wc -l`\n",
    "echo \"Real image count: $real_img_count\" \n",
    "fake_img_count=`ls /kaggle/input/person-face-dataset-thispersondoesnotexist/thispersondoesnotexist.10k | wc -l`\n",
    "echo \"Fake image count: $fake_img_count\""
   ]
  },
  {
   "cell_type": "markdown",
   "id": "21b2c0b8",
   "metadata": {
    "papermill": {
     "duration": 0.006649,
     "end_time": "2024-05-03T04:28:03.993849",
     "exception": false,
     "start_time": "2024-05-03T04:28:03.987200",
     "status": "completed"
    },
    "tags": []
   },
   "source": [
    "# Data Preprocessing"
   ]
  },
  {
   "cell_type": "code",
   "execution_count": 4,
   "id": "ebdacdc2",
   "metadata": {
    "execution": {
     "iopub.execute_input": "2024-05-03T04:28:04.008924Z",
     "iopub.status.busy": "2024-05-03T04:28:04.008377Z",
     "iopub.status.idle": "2024-05-03T04:28:04.013072Z",
     "shell.execute_reply": "2024-05-03T04:28:04.012165Z"
    },
    "papermill": {
     "duration": 0.014385,
     "end_time": "2024-05-03T04:28:04.014979",
     "exception": false,
     "start_time": "2024-05-03T04:28:04.000594",
     "status": "completed"
    },
    "tags": []
   },
   "outputs": [],
   "source": [
    "real_img_dir = f\"{input_dir}/ffhq-face-data-set/thumbnails128x128\"\n",
    "fake_img_dir = f\"{input_dir}/person-face-dataset-thispersondoesnotexist/thispersondoesnotexist.10k\"\n",
    "\n",
    "input_shape = (128,128,3)"
   ]
  },
  {
   "cell_type": "code",
   "execution_count": 5,
   "id": "202f45af",
   "metadata": {
    "execution": {
     "iopub.execute_input": "2024-05-03T04:28:04.029562Z",
     "iopub.status.busy": "2024-05-03T04:28:04.028997Z",
     "iopub.status.idle": "2024-05-03T04:30:29.777439Z",
     "shell.execute_reply": "2024-05-03T04:30:29.776360Z"
    },
    "papermill": {
     "duration": 145.758161,
     "end_time": "2024-05-03T04:30:29.779737",
     "exception": false,
     "start_time": "2024-05-03T04:28:04.021576",
     "status": "completed"
    },
    "tags": []
   },
   "outputs": [
    {
     "data": {
      "application/vnd.jupyter.widget-view+json": {
       "model_id": "32ee2fcd79b64f9b88caa9d32ffb7165",
       "version_major": 2,
       "version_minor": 0
      },
      "text/plain": [
       "  0%|          | 0/3000 [00:00<?, ?it/s]"
      ]
     },
     "metadata": {},
     "output_type": "display_data"
    },
    {
     "data": {
      "application/vnd.jupyter.widget-view+json": {
       "model_id": "b5ee82844b614cf6aba62ca60616a3e5",
       "version_major": 2,
       "version_minor": 0
      },
      "text/plain": [
       "  0%|          | 0/3000 [00:00<?, ?it/s]"
      ]
     },
     "metadata": {},
     "output_type": "display_data"
    }
   ],
   "source": [
    "# processing data\n",
    "X = []\n",
    "Y = []\n",
    "\n",
    "for img in tqdm_notebook(os.listdir(real_img_dir)[:3000]):\n",
    "    X.append(img_to_array(load_img(f\"{real_img_dir}/{img}\", target_size=input_shape)) / 255.0)\n",
    "    Y.append(0)\n",
    "\n",
    "for img in tqdm_notebook(os.listdir(fake_img_dir)[:3000]):\n",
    "    X.append(img_to_array(load_img(f\"{fake_img_dir}/{img}\", target_size=input_shape)) / 255.0)\n",
    "    Y.append(1)\n",
    "\n",
    "\n",
    "# normalization\n",
    "X = np.array(X)\n",
    "X = X.reshape(-1, 128, 128, 3)\n",
    "Y = to_categorical(Y, 2)\n",
    "# Y = np.array(Y)\n",
    "\n",
    "# saving processed data arrays\n",
    "os.chdir(output_dir)\n",
    "np.save('X.npy',X)\n",
    "np.save('Y.npy',Y)"
   ]
  },
  {
   "cell_type": "code",
   "execution_count": 6,
   "id": "b65b2957",
   "metadata": {
    "execution": {
     "iopub.execute_input": "2024-05-03T04:30:29.794904Z",
     "iopub.status.busy": "2024-05-03T04:30:29.794596Z",
     "iopub.status.idle": "2024-05-03T04:30:30.489581Z",
     "shell.execute_reply": "2024-05-03T04:30:30.488490Z"
    },
    "papermill": {
     "duration": 0.704945,
     "end_time": "2024-05-03T04:30:30.491757",
     "exception": false,
     "start_time": "2024-05-03T04:30:29.786812",
     "status": "completed"
    },
    "tags": []
   },
   "outputs": [
    {
     "name": "stdout",
     "output_type": "stream",
     "text": [
      "\n",
      "data shape: (6000, 128, 128, 3); labels shape: (6000, 2)\n",
      "X_train shape: (4800, 128, 128, 3)\n",
      "Y_train shape: (4800, 2)\n",
      "X_val shape: (1200, 128, 128, 3)\n",
      "Y_val shape: (1200, 2)\n"
     ]
    }
   ],
   "source": [
    "# load saved data files\n",
    "os.chdir(working_dir)\n",
    "X = np.load('X.npy')\n",
    "Y = np.load('Y.npy')\n",
    "\n",
    "# train test split\n",
    "X_train, X_val, Y_train, Y_val = train_test_split(X, Y, test_size = 0.2, random_state=5)\n",
    "\n",
    "# info\n",
    "print(f\"\\ndata shape: {X.shape}; labels shape: {Y.shape}\")\n",
    "print(f\"X_train shape: {X_train.shape}\\nY_train shape: {Y_train.shape}\")\n",
    "print(f\"X_val shape: {X_val.shape}\\nY_val shape: {Y_val.shape}\")"
   ]
  },
  {
   "cell_type": "markdown",
   "id": "7e5cf833",
   "metadata": {
    "papermill": {
     "duration": 0.006639,
     "end_time": "2024-05-03T04:30:30.506663",
     "exception": false,
     "start_time": "2024-05-03T04:30:30.500024",
     "status": "completed"
    },
    "tags": []
   },
   "source": [
    "# Model Creation and Training"
   ]
  },
  {
   "cell_type": "code",
   "execution_count": 7,
   "id": "1e11f61d",
   "metadata": {
    "execution": {
     "iopub.execute_input": "2024-05-03T04:30:30.521691Z",
     "iopub.status.busy": "2024-05-03T04:30:30.521380Z",
     "iopub.status.idle": "2024-05-03T04:30:30.531957Z",
     "shell.execute_reply": "2024-05-03T04:30:30.531293Z"
    },
    "papermill": {
     "duration": 0.020308,
     "end_time": "2024-05-03T04:30:30.533894",
     "exception": false,
     "start_time": "2024-05-03T04:30:30.513586",
     "status": "completed"
    },
    "tags": []
   },
   "outputs": [],
   "source": [
    "from tensorflow.keras.applications import InceptionResNetV2,InceptionV3\n",
    "from tensorflow.keras.layers import Conv2D, MaxPooling2D, Dense, Dropout, Flatten, Input, InputLayer, GlobalAveragePooling2D, Activation, MaxPool2D\n",
    "from tensorflow.keras.models import Model, Sequential, load_model\n",
    "from tensorflow.keras import optimizers\n",
    "from tensorflow.keras.callbacks import ReduceLROnPlateau, EarlyStopping, ModelCheckpoint\n",
    "from keras import backend as K\n",
    "\n",
    "# transfer_model = InceptionV3(include_top=False, weights='imagenet', input_shape=input_shape, classes=2)\n",
    "# transfer_model.trainable = True\n",
    "# model = Sequential()\n",
    "# model.add(transfer_model)\n",
    "# model.add(GlobalAveragePooling2D(name='avg_2d_pool'))\n",
    "# model.add(Flatten(name='flatten_layer'))\n",
    "\n",
    "# model.add(Dense(100,activation='relu))\n",
    "# model.add(Dense(units=2, activation='softmax'))\n",
    "# model.compile(loss='binary_crossentropy',\n",
    "#               optimizer=optimizers.Adam(learning_rate=1e-5, beta_1=0.9, beta_2=0.999),\n",
    "#               metrics=['accuracy'])\n",
    "\n",
    "# model.summary()"
   ]
  },
  {
   "cell_type": "code",
   "execution_count": 8,
   "id": "fa84375e",
   "metadata": {
    "execution": {
     "iopub.execute_input": "2024-05-03T04:30:30.548513Z",
     "iopub.status.busy": "2024-05-03T04:30:30.548257Z",
     "iopub.status.idle": "2024-05-03T04:30:31.368324Z",
     "shell.execute_reply": "2024-05-03T04:30:31.367442Z"
    },
    "papermill": {
     "duration": 0.82964,
     "end_time": "2024-05-03T04:30:31.370287",
     "exception": false,
     "start_time": "2024-05-03T04:30:30.540647",
     "status": "completed"
    },
    "tags": []
   },
   "outputs": [
    {
     "data": {
      "text/html": [
       "<pre style=\"white-space:pre;overflow-x:auto;line-height:normal;font-family:Menlo,'DejaVu Sans Mono',consolas,'Courier New',monospace\"><span style=\"font-weight: bold\">Model: \"BaseModel\"</span>\n",
       "</pre>\n"
      ],
      "text/plain": [
       "\u001b[1mModel: \"BaseModel\"\u001b[0m\n"
      ]
     },
     "metadata": {},
     "output_type": "display_data"
    },
    {
     "data": {
      "text/html": [
       "<pre style=\"white-space:pre;overflow-x:auto;line-height:normal;font-family:Menlo,'DejaVu Sans Mono',consolas,'Courier New',monospace\">┏━━━━━━━━━━━━━━━━━━━━━━━━━━━━━━━━━┳━━━━━━━━━━━━━━━━━━━━━━━━┳━━━━━━━━━━━━━━━┓\n",
       "┃<span style=\"font-weight: bold\"> Layer (type)                    </span>┃<span style=\"font-weight: bold\"> Output Shape           </span>┃<span style=\"font-weight: bold\">       Param # </span>┃\n",
       "┡━━━━━━━━━━━━━━━━━━━━━━━━━━━━━━━━━╇━━━━━━━━━━━━━━━━━━━━━━━━╇━━━━━━━━━━━━━━━┩\n",
       "│ input_layer (<span style=\"color: #0087ff; text-decoration-color: #0087ff\">InputLayer</span>)        │ (<span style=\"color: #00d7ff; text-decoration-color: #00d7ff\">None</span>, <span style=\"color: #00af00; text-decoration-color: #00af00\">128</span>, <span style=\"color: #00af00; text-decoration-color: #00af00\">128</span>, <span style=\"color: #00af00; text-decoration-color: #00af00\">3</span>)    │             <span style=\"color: #00af00; text-decoration-color: #00af00\">0</span> │\n",
       "├─────────────────────────────────┼────────────────────────┼───────────────┤\n",
       "│ conv2d (<span style=\"color: #0087ff; text-decoration-color: #0087ff\">Conv2D</span>)                 │ (<span style=\"color: #00d7ff; text-decoration-color: #00d7ff\">None</span>, <span style=\"color: #00af00; text-decoration-color: #00af00\">128</span>, <span style=\"color: #00af00; text-decoration-color: #00af00\">128</span>, <span style=\"color: #00af00; text-decoration-color: #00af00\">64</span>)   │         <span style=\"color: #00af00; text-decoration-color: #00af00\">4,864</span> │\n",
       "├─────────────────────────────────┼────────────────────────┼───────────────┤\n",
       "│ activation (<span style=\"color: #0087ff; text-decoration-color: #0087ff\">Activation</span>)         │ (<span style=\"color: #00d7ff; text-decoration-color: #00d7ff\">None</span>, <span style=\"color: #00af00; text-decoration-color: #00af00\">128</span>, <span style=\"color: #00af00; text-decoration-color: #00af00\">128</span>, <span style=\"color: #00af00; text-decoration-color: #00af00\">64</span>)   │             <span style=\"color: #00af00; text-decoration-color: #00af00\">0</span> │\n",
       "├─────────────────────────────────┼────────────────────────┼───────────────┤\n",
       "│ max_pooling2d (<span style=\"color: #0087ff; text-decoration-color: #0087ff\">MaxPooling2D</span>)    │ (<span style=\"color: #00d7ff; text-decoration-color: #00d7ff\">None</span>, <span style=\"color: #00af00; text-decoration-color: #00af00\">64</span>, <span style=\"color: #00af00; text-decoration-color: #00af00\">64</span>, <span style=\"color: #00af00; text-decoration-color: #00af00\">64</span>)     │             <span style=\"color: #00af00; text-decoration-color: #00af00\">0</span> │\n",
       "├─────────────────────────────────┼────────────────────────┼───────────────┤\n",
       "│ conv2d_1 (<span style=\"color: #0087ff; text-decoration-color: #0087ff\">Conv2D</span>)               │ (<span style=\"color: #00d7ff; text-decoration-color: #00d7ff\">None</span>, <span style=\"color: #00af00; text-decoration-color: #00af00\">64</span>, <span style=\"color: #00af00; text-decoration-color: #00af00\">64</span>, <span style=\"color: #00af00; text-decoration-color: #00af00\">64</span>)     │       <span style=\"color: #00af00; text-decoration-color: #00af00\">102,464</span> │\n",
       "├─────────────────────────────────┼────────────────────────┼───────────────┤\n",
       "│ activation_1 (<span style=\"color: #0087ff; text-decoration-color: #0087ff\">Activation</span>)       │ (<span style=\"color: #00d7ff; text-decoration-color: #00d7ff\">None</span>, <span style=\"color: #00af00; text-decoration-color: #00af00\">64</span>, <span style=\"color: #00af00; text-decoration-color: #00af00\">64</span>, <span style=\"color: #00af00; text-decoration-color: #00af00\">64</span>)     │             <span style=\"color: #00af00; text-decoration-color: #00af00\">0</span> │\n",
       "├─────────────────────────────────┼────────────────────────┼───────────────┤\n",
       "│ max_pooling2d_1 (<span style=\"color: #0087ff; text-decoration-color: #0087ff\">MaxPooling2D</span>)  │ (<span style=\"color: #00d7ff; text-decoration-color: #00d7ff\">None</span>, <span style=\"color: #00af00; text-decoration-color: #00af00\">32</span>, <span style=\"color: #00af00; text-decoration-color: #00af00\">32</span>, <span style=\"color: #00af00; text-decoration-color: #00af00\">64</span>)     │             <span style=\"color: #00af00; text-decoration-color: #00af00\">0</span> │\n",
       "├─────────────────────────────────┼────────────────────────┼───────────────┤\n",
       "│ conv2d_2 (<span style=\"color: #0087ff; text-decoration-color: #0087ff\">Conv2D</span>)               │ (<span style=\"color: #00d7ff; text-decoration-color: #00d7ff\">None</span>, <span style=\"color: #00af00; text-decoration-color: #00af00\">32</span>, <span style=\"color: #00af00; text-decoration-color: #00af00\">32</span>, <span style=\"color: #00af00; text-decoration-color: #00af00\">64</span>)     │       <span style=\"color: #00af00; text-decoration-color: #00af00\">102,464</span> │\n",
       "├─────────────────────────────────┼────────────────────────┼───────────────┤\n",
       "│ activation_2 (<span style=\"color: #0087ff; text-decoration-color: #0087ff\">Activation</span>)       │ (<span style=\"color: #00d7ff; text-decoration-color: #00d7ff\">None</span>, <span style=\"color: #00af00; text-decoration-color: #00af00\">32</span>, <span style=\"color: #00af00; text-decoration-color: #00af00\">32</span>, <span style=\"color: #00af00; text-decoration-color: #00af00\">64</span>)     │             <span style=\"color: #00af00; text-decoration-color: #00af00\">0</span> │\n",
       "├─────────────────────────────────┼────────────────────────┼───────────────┤\n",
       "│ max_pooling2d_2 (<span style=\"color: #0087ff; text-decoration-color: #0087ff\">MaxPooling2D</span>)  │ (<span style=\"color: #00d7ff; text-decoration-color: #00d7ff\">None</span>, <span style=\"color: #00af00; text-decoration-color: #00af00\">16</span>, <span style=\"color: #00af00; text-decoration-color: #00af00\">16</span>, <span style=\"color: #00af00; text-decoration-color: #00af00\">64</span>)     │             <span style=\"color: #00af00; text-decoration-color: #00af00\">0</span> │\n",
       "├─────────────────────────────────┼────────────────────────┼───────────────┤\n",
       "│ conv2d_3 (<span style=\"color: #0087ff; text-decoration-color: #0087ff\">Conv2D</span>)               │ (<span style=\"color: #00d7ff; text-decoration-color: #00d7ff\">None</span>, <span style=\"color: #00af00; text-decoration-color: #00af00\">16</span>, <span style=\"color: #00af00; text-decoration-color: #00af00\">16</span>, <span style=\"color: #00af00; text-decoration-color: #00af00\">32</span>)     │        <span style=\"color: #00af00; text-decoration-color: #00af00\">18,464</span> │\n",
       "├─────────────────────────────────┼────────────────────────┼───────────────┤\n",
       "│ activation_3 (<span style=\"color: #0087ff; text-decoration-color: #0087ff\">Activation</span>)       │ (<span style=\"color: #00d7ff; text-decoration-color: #00d7ff\">None</span>, <span style=\"color: #00af00; text-decoration-color: #00af00\">16</span>, <span style=\"color: #00af00; text-decoration-color: #00af00\">16</span>, <span style=\"color: #00af00; text-decoration-color: #00af00\">32</span>)     │             <span style=\"color: #00af00; text-decoration-color: #00af00\">0</span> │\n",
       "├─────────────────────────────────┼────────────────────────┼───────────────┤\n",
       "│ max_pooling2d_3 (<span style=\"color: #0087ff; text-decoration-color: #0087ff\">MaxPooling2D</span>)  │ (<span style=\"color: #00d7ff; text-decoration-color: #00d7ff\">None</span>, <span style=\"color: #00af00; text-decoration-color: #00af00\">8</span>, <span style=\"color: #00af00; text-decoration-color: #00af00\">8</span>, <span style=\"color: #00af00; text-decoration-color: #00af00\">32</span>)       │             <span style=\"color: #00af00; text-decoration-color: #00af00\">0</span> │\n",
       "├─────────────────────────────────┼────────────────────────┼───────────────┤\n",
       "│ conv2d_4 (<span style=\"color: #0087ff; text-decoration-color: #0087ff\">Conv2D</span>)               │ (<span style=\"color: #00d7ff; text-decoration-color: #00d7ff\">None</span>, <span style=\"color: #00af00; text-decoration-color: #00af00\">8</span>, <span style=\"color: #00af00; text-decoration-color: #00af00\">8</span>, <span style=\"color: #00af00; text-decoration-color: #00af00\">16</span>)       │         <span style=\"color: #00af00; text-decoration-color: #00af00\">4,624</span> │\n",
       "├─────────────────────────────────┼────────────────────────┼───────────────┤\n",
       "│ activation_4 (<span style=\"color: #0087ff; text-decoration-color: #0087ff\">Activation</span>)       │ (<span style=\"color: #00d7ff; text-decoration-color: #00d7ff\">None</span>, <span style=\"color: #00af00; text-decoration-color: #00af00\">8</span>, <span style=\"color: #00af00; text-decoration-color: #00af00\">8</span>, <span style=\"color: #00af00; text-decoration-color: #00af00\">16</span>)       │             <span style=\"color: #00af00; text-decoration-color: #00af00\">0</span> │\n",
       "├─────────────────────────────────┼────────────────────────┼───────────────┤\n",
       "│ max_pooling2d_4 (<span style=\"color: #0087ff; text-decoration-color: #0087ff\">MaxPooling2D</span>)  │ (<span style=\"color: #00d7ff; text-decoration-color: #00d7ff\">None</span>, <span style=\"color: #00af00; text-decoration-color: #00af00\">4</span>, <span style=\"color: #00af00; text-decoration-color: #00af00\">4</span>, <span style=\"color: #00af00; text-decoration-color: #00af00\">16</span>)       │             <span style=\"color: #00af00; text-decoration-color: #00af00\">0</span> │\n",
       "├─────────────────────────────────┼────────────────────────┼───────────────┤\n",
       "│ conv2d_5 (<span style=\"color: #0087ff; text-decoration-color: #0087ff\">Conv2D</span>)               │ (<span style=\"color: #00d7ff; text-decoration-color: #00d7ff\">None</span>, <span style=\"color: #00af00; text-decoration-color: #00af00\">4</span>, <span style=\"color: #00af00; text-decoration-color: #00af00\">4</span>, <span style=\"color: #00af00; text-decoration-color: #00af00\">16</span>)       │         <span style=\"color: #00af00; text-decoration-color: #00af00\">2,320</span> │\n",
       "├─────────────────────────────────┼────────────────────────┼───────────────┤\n",
       "│ activation_5 (<span style=\"color: #0087ff; text-decoration-color: #0087ff\">Activation</span>)       │ (<span style=\"color: #00d7ff; text-decoration-color: #00d7ff\">None</span>, <span style=\"color: #00af00; text-decoration-color: #00af00\">4</span>, <span style=\"color: #00af00; text-decoration-color: #00af00\">4</span>, <span style=\"color: #00af00; text-decoration-color: #00af00\">16</span>)       │             <span style=\"color: #00af00; text-decoration-color: #00af00\">0</span> │\n",
       "├─────────────────────────────────┼────────────────────────┼───────────────┤\n",
       "│ max_pooling2d_5 (<span style=\"color: #0087ff; text-decoration-color: #0087ff\">MaxPooling2D</span>)  │ (<span style=\"color: #00d7ff; text-decoration-color: #00d7ff\">None</span>, <span style=\"color: #00af00; text-decoration-color: #00af00\">2</span>, <span style=\"color: #00af00; text-decoration-color: #00af00\">2</span>, <span style=\"color: #00af00; text-decoration-color: #00af00\">16</span>)       │             <span style=\"color: #00af00; text-decoration-color: #00af00\">0</span> │\n",
       "├─────────────────────────────────┼────────────────────────┼───────────────┤\n",
       "│ global_average_pooling2d        │ (<span style=\"color: #00d7ff; text-decoration-color: #00d7ff\">None</span>, <span style=\"color: #00af00; text-decoration-color: #00af00\">16</span>)             │             <span style=\"color: #00af00; text-decoration-color: #00af00\">0</span> │\n",
       "│ (<span style=\"color: #0087ff; text-decoration-color: #0087ff\">GlobalAveragePooling2D</span>)        │                        │               │\n",
       "├─────────────────────────────────┼────────────────────────┼───────────────┤\n",
       "│ flatten (<span style=\"color: #0087ff; text-decoration-color: #0087ff\">Flatten</span>)               │ (<span style=\"color: #00d7ff; text-decoration-color: #00d7ff\">None</span>, <span style=\"color: #00af00; text-decoration-color: #00af00\">16</span>)             │             <span style=\"color: #00af00; text-decoration-color: #00af00\">0</span> │\n",
       "├─────────────────────────────────┼────────────────────────┼───────────────┤\n",
       "│ dense (<span style=\"color: #0087ff; text-decoration-color: #0087ff\">Dense</span>)                   │ (<span style=\"color: #00d7ff; text-decoration-color: #00d7ff\">None</span>, <span style=\"color: #00af00; text-decoration-color: #00af00\">400</span>)            │         <span style=\"color: #00af00; text-decoration-color: #00af00\">6,800</span> │\n",
       "├─────────────────────────────────┼────────────────────────┼───────────────┤\n",
       "│ dropout (<span style=\"color: #0087ff; text-decoration-color: #0087ff\">Dropout</span>)               │ (<span style=\"color: #00d7ff; text-decoration-color: #00d7ff\">None</span>, <span style=\"color: #00af00; text-decoration-color: #00af00\">400</span>)            │             <span style=\"color: #00af00; text-decoration-color: #00af00\">0</span> │\n",
       "├─────────────────────────────────┼────────────────────────┼───────────────┤\n",
       "│ activation_6 (<span style=\"color: #0087ff; text-decoration-color: #0087ff\">Activation</span>)       │ (<span style=\"color: #00d7ff; text-decoration-color: #00d7ff\">None</span>, <span style=\"color: #00af00; text-decoration-color: #00af00\">400</span>)            │             <span style=\"color: #00af00; text-decoration-color: #00af00\">0</span> │\n",
       "├─────────────────────────────────┼────────────────────────┼───────────────┤\n",
       "│ dense_1 (<span style=\"color: #0087ff; text-decoration-color: #0087ff\">Dense</span>)                 │ (<span style=\"color: #00d7ff; text-decoration-color: #00d7ff\">None</span>, <span style=\"color: #00af00; text-decoration-color: #00af00\">512</span>)            │       <span style=\"color: #00af00; text-decoration-color: #00af00\">205,312</span> │\n",
       "├─────────────────────────────────┼────────────────────────┼───────────────┤\n",
       "│ dropout_1 (<span style=\"color: #0087ff; text-decoration-color: #0087ff\">Dropout</span>)             │ (<span style=\"color: #00d7ff; text-decoration-color: #00d7ff\">None</span>, <span style=\"color: #00af00; text-decoration-color: #00af00\">512</span>)            │             <span style=\"color: #00af00; text-decoration-color: #00af00\">0</span> │\n",
       "├─────────────────────────────────┼────────────────────────┼───────────────┤\n",
       "│ activation_7 (<span style=\"color: #0087ff; text-decoration-color: #0087ff\">Activation</span>)       │ (<span style=\"color: #00d7ff; text-decoration-color: #00d7ff\">None</span>, <span style=\"color: #00af00; text-decoration-color: #00af00\">512</span>)            │             <span style=\"color: #00af00; text-decoration-color: #00af00\">0</span> │\n",
       "├─────────────────────────────────┼────────────────────────┼───────────────┤\n",
       "│ dense_2 (<span style=\"color: #0087ff; text-decoration-color: #0087ff\">Dense</span>)                 │ (<span style=\"color: #00d7ff; text-decoration-color: #00d7ff\">None</span>, <span style=\"color: #00af00; text-decoration-color: #00af00\">400</span>)            │       <span style=\"color: #00af00; text-decoration-color: #00af00\">205,200</span> │\n",
       "├─────────────────────────────────┼────────────────────────┼───────────────┤\n",
       "│ dropout_2 (<span style=\"color: #0087ff; text-decoration-color: #0087ff\">Dropout</span>)             │ (<span style=\"color: #00d7ff; text-decoration-color: #00d7ff\">None</span>, <span style=\"color: #00af00; text-decoration-color: #00af00\">400</span>)            │             <span style=\"color: #00af00; text-decoration-color: #00af00\">0</span> │\n",
       "├─────────────────────────────────┼────────────────────────┼───────────────┤\n",
       "│ activation_8 (<span style=\"color: #0087ff; text-decoration-color: #0087ff\">Activation</span>)       │ (<span style=\"color: #00d7ff; text-decoration-color: #00d7ff\">None</span>, <span style=\"color: #00af00; text-decoration-color: #00af00\">400</span>)            │             <span style=\"color: #00af00; text-decoration-color: #00af00\">0</span> │\n",
       "├─────────────────────────────────┼────────────────────────┼───────────────┤\n",
       "│ dense_3 (<span style=\"color: #0087ff; text-decoration-color: #0087ff\">Dense</span>)                 │ (<span style=\"color: #00d7ff; text-decoration-color: #00d7ff\">None</span>, <span style=\"color: #00af00; text-decoration-color: #00af00\">2</span>)              │           <span style=\"color: #00af00; text-decoration-color: #00af00\">802</span> │\n",
       "├─────────────────────────────────┼────────────────────────┼───────────────┤\n",
       "│ activation_9 (<span style=\"color: #0087ff; text-decoration-color: #0087ff\">Activation</span>)       │ (<span style=\"color: #00d7ff; text-decoration-color: #00d7ff\">None</span>, <span style=\"color: #00af00; text-decoration-color: #00af00\">2</span>)              │             <span style=\"color: #00af00; text-decoration-color: #00af00\">0</span> │\n",
       "└─────────────────────────────────┴────────────────────────┴───────────────┘\n",
       "</pre>\n"
      ],
      "text/plain": [
       "┏━━━━━━━━━━━━━━━━━━━━━━━━━━━━━━━━━┳━━━━━━━━━━━━━━━━━━━━━━━━┳━━━━━━━━━━━━━━━┓\n",
       "┃\u001b[1m \u001b[0m\u001b[1mLayer (type)                   \u001b[0m\u001b[1m \u001b[0m┃\u001b[1m \u001b[0m\u001b[1mOutput Shape          \u001b[0m\u001b[1m \u001b[0m┃\u001b[1m \u001b[0m\u001b[1m      Param #\u001b[0m\u001b[1m \u001b[0m┃\n",
       "┡━━━━━━━━━━━━━━━━━━━━━━━━━━━━━━━━━╇━━━━━━━━━━━━━━━━━━━━━━━━╇━━━━━━━━━━━━━━━┩\n",
       "│ input_layer (\u001b[38;5;33mInputLayer\u001b[0m)        │ (\u001b[38;5;45mNone\u001b[0m, \u001b[38;5;34m128\u001b[0m, \u001b[38;5;34m128\u001b[0m, \u001b[38;5;34m3\u001b[0m)    │             \u001b[38;5;34m0\u001b[0m │\n",
       "├─────────────────────────────────┼────────────────────────┼───────────────┤\n",
       "│ conv2d (\u001b[38;5;33mConv2D\u001b[0m)                 │ (\u001b[38;5;45mNone\u001b[0m, \u001b[38;5;34m128\u001b[0m, \u001b[38;5;34m128\u001b[0m, \u001b[38;5;34m64\u001b[0m)   │         \u001b[38;5;34m4,864\u001b[0m │\n",
       "├─────────────────────────────────┼────────────────────────┼───────────────┤\n",
       "│ activation (\u001b[38;5;33mActivation\u001b[0m)         │ (\u001b[38;5;45mNone\u001b[0m, \u001b[38;5;34m128\u001b[0m, \u001b[38;5;34m128\u001b[0m, \u001b[38;5;34m64\u001b[0m)   │             \u001b[38;5;34m0\u001b[0m │\n",
       "├─────────────────────────────────┼────────────────────────┼───────────────┤\n",
       "│ max_pooling2d (\u001b[38;5;33mMaxPooling2D\u001b[0m)    │ (\u001b[38;5;45mNone\u001b[0m, \u001b[38;5;34m64\u001b[0m, \u001b[38;5;34m64\u001b[0m, \u001b[38;5;34m64\u001b[0m)     │             \u001b[38;5;34m0\u001b[0m │\n",
       "├─────────────────────────────────┼────────────────────────┼───────────────┤\n",
       "│ conv2d_1 (\u001b[38;5;33mConv2D\u001b[0m)               │ (\u001b[38;5;45mNone\u001b[0m, \u001b[38;5;34m64\u001b[0m, \u001b[38;5;34m64\u001b[0m, \u001b[38;5;34m64\u001b[0m)     │       \u001b[38;5;34m102,464\u001b[0m │\n",
       "├─────────────────────────────────┼────────────────────────┼───────────────┤\n",
       "│ activation_1 (\u001b[38;5;33mActivation\u001b[0m)       │ (\u001b[38;5;45mNone\u001b[0m, \u001b[38;5;34m64\u001b[0m, \u001b[38;5;34m64\u001b[0m, \u001b[38;5;34m64\u001b[0m)     │             \u001b[38;5;34m0\u001b[0m │\n",
       "├─────────────────────────────────┼────────────────────────┼───────────────┤\n",
       "│ max_pooling2d_1 (\u001b[38;5;33mMaxPooling2D\u001b[0m)  │ (\u001b[38;5;45mNone\u001b[0m, \u001b[38;5;34m32\u001b[0m, \u001b[38;5;34m32\u001b[0m, \u001b[38;5;34m64\u001b[0m)     │             \u001b[38;5;34m0\u001b[0m │\n",
       "├─────────────────────────────────┼────────────────────────┼───────────────┤\n",
       "│ conv2d_2 (\u001b[38;5;33mConv2D\u001b[0m)               │ (\u001b[38;5;45mNone\u001b[0m, \u001b[38;5;34m32\u001b[0m, \u001b[38;5;34m32\u001b[0m, \u001b[38;5;34m64\u001b[0m)     │       \u001b[38;5;34m102,464\u001b[0m │\n",
       "├─────────────────────────────────┼────────────────────────┼───────────────┤\n",
       "│ activation_2 (\u001b[38;5;33mActivation\u001b[0m)       │ (\u001b[38;5;45mNone\u001b[0m, \u001b[38;5;34m32\u001b[0m, \u001b[38;5;34m32\u001b[0m, \u001b[38;5;34m64\u001b[0m)     │             \u001b[38;5;34m0\u001b[0m │\n",
       "├─────────────────────────────────┼────────────────────────┼───────────────┤\n",
       "│ max_pooling2d_2 (\u001b[38;5;33mMaxPooling2D\u001b[0m)  │ (\u001b[38;5;45mNone\u001b[0m, \u001b[38;5;34m16\u001b[0m, \u001b[38;5;34m16\u001b[0m, \u001b[38;5;34m64\u001b[0m)     │             \u001b[38;5;34m0\u001b[0m │\n",
       "├─────────────────────────────────┼────────────────────────┼───────────────┤\n",
       "│ conv2d_3 (\u001b[38;5;33mConv2D\u001b[0m)               │ (\u001b[38;5;45mNone\u001b[0m, \u001b[38;5;34m16\u001b[0m, \u001b[38;5;34m16\u001b[0m, \u001b[38;5;34m32\u001b[0m)     │        \u001b[38;5;34m18,464\u001b[0m │\n",
       "├─────────────────────────────────┼────────────────────────┼───────────────┤\n",
       "│ activation_3 (\u001b[38;5;33mActivation\u001b[0m)       │ (\u001b[38;5;45mNone\u001b[0m, \u001b[38;5;34m16\u001b[0m, \u001b[38;5;34m16\u001b[0m, \u001b[38;5;34m32\u001b[0m)     │             \u001b[38;5;34m0\u001b[0m │\n",
       "├─────────────────────────────────┼────────────────────────┼───────────────┤\n",
       "│ max_pooling2d_3 (\u001b[38;5;33mMaxPooling2D\u001b[0m)  │ (\u001b[38;5;45mNone\u001b[0m, \u001b[38;5;34m8\u001b[0m, \u001b[38;5;34m8\u001b[0m, \u001b[38;5;34m32\u001b[0m)       │             \u001b[38;5;34m0\u001b[0m │\n",
       "├─────────────────────────────────┼────────────────────────┼───────────────┤\n",
       "│ conv2d_4 (\u001b[38;5;33mConv2D\u001b[0m)               │ (\u001b[38;5;45mNone\u001b[0m, \u001b[38;5;34m8\u001b[0m, \u001b[38;5;34m8\u001b[0m, \u001b[38;5;34m16\u001b[0m)       │         \u001b[38;5;34m4,624\u001b[0m │\n",
       "├─────────────────────────────────┼────────────────────────┼───────────────┤\n",
       "│ activation_4 (\u001b[38;5;33mActivation\u001b[0m)       │ (\u001b[38;5;45mNone\u001b[0m, \u001b[38;5;34m8\u001b[0m, \u001b[38;5;34m8\u001b[0m, \u001b[38;5;34m16\u001b[0m)       │             \u001b[38;5;34m0\u001b[0m │\n",
       "├─────────────────────────────────┼────────────────────────┼───────────────┤\n",
       "│ max_pooling2d_4 (\u001b[38;5;33mMaxPooling2D\u001b[0m)  │ (\u001b[38;5;45mNone\u001b[0m, \u001b[38;5;34m4\u001b[0m, \u001b[38;5;34m4\u001b[0m, \u001b[38;5;34m16\u001b[0m)       │             \u001b[38;5;34m0\u001b[0m │\n",
       "├─────────────────────────────────┼────────────────────────┼───────────────┤\n",
       "│ conv2d_5 (\u001b[38;5;33mConv2D\u001b[0m)               │ (\u001b[38;5;45mNone\u001b[0m, \u001b[38;5;34m4\u001b[0m, \u001b[38;5;34m4\u001b[0m, \u001b[38;5;34m16\u001b[0m)       │         \u001b[38;5;34m2,320\u001b[0m │\n",
       "├─────────────────────────────────┼────────────────────────┼───────────────┤\n",
       "│ activation_5 (\u001b[38;5;33mActivation\u001b[0m)       │ (\u001b[38;5;45mNone\u001b[0m, \u001b[38;5;34m4\u001b[0m, \u001b[38;5;34m4\u001b[0m, \u001b[38;5;34m16\u001b[0m)       │             \u001b[38;5;34m0\u001b[0m │\n",
       "├─────────────────────────────────┼────────────────────────┼───────────────┤\n",
       "│ max_pooling2d_5 (\u001b[38;5;33mMaxPooling2D\u001b[0m)  │ (\u001b[38;5;45mNone\u001b[0m, \u001b[38;5;34m2\u001b[0m, \u001b[38;5;34m2\u001b[0m, \u001b[38;5;34m16\u001b[0m)       │             \u001b[38;5;34m0\u001b[0m │\n",
       "├─────────────────────────────────┼────────────────────────┼───────────────┤\n",
       "│ global_average_pooling2d        │ (\u001b[38;5;45mNone\u001b[0m, \u001b[38;5;34m16\u001b[0m)             │             \u001b[38;5;34m0\u001b[0m │\n",
       "│ (\u001b[38;5;33mGlobalAveragePooling2D\u001b[0m)        │                        │               │\n",
       "├─────────────────────────────────┼────────────────────────┼───────────────┤\n",
       "│ flatten (\u001b[38;5;33mFlatten\u001b[0m)               │ (\u001b[38;5;45mNone\u001b[0m, \u001b[38;5;34m16\u001b[0m)             │             \u001b[38;5;34m0\u001b[0m │\n",
       "├─────────────────────────────────┼────────────────────────┼───────────────┤\n",
       "│ dense (\u001b[38;5;33mDense\u001b[0m)                   │ (\u001b[38;5;45mNone\u001b[0m, \u001b[38;5;34m400\u001b[0m)            │         \u001b[38;5;34m6,800\u001b[0m │\n",
       "├─────────────────────────────────┼────────────────────────┼───────────────┤\n",
       "│ dropout (\u001b[38;5;33mDropout\u001b[0m)               │ (\u001b[38;5;45mNone\u001b[0m, \u001b[38;5;34m400\u001b[0m)            │             \u001b[38;5;34m0\u001b[0m │\n",
       "├─────────────────────────────────┼────────────────────────┼───────────────┤\n",
       "│ activation_6 (\u001b[38;5;33mActivation\u001b[0m)       │ (\u001b[38;5;45mNone\u001b[0m, \u001b[38;5;34m400\u001b[0m)            │             \u001b[38;5;34m0\u001b[0m │\n",
       "├─────────────────────────────────┼────────────────────────┼───────────────┤\n",
       "│ dense_1 (\u001b[38;5;33mDense\u001b[0m)                 │ (\u001b[38;5;45mNone\u001b[0m, \u001b[38;5;34m512\u001b[0m)            │       \u001b[38;5;34m205,312\u001b[0m │\n",
       "├─────────────────────────────────┼────────────────────────┼───────────────┤\n",
       "│ dropout_1 (\u001b[38;5;33mDropout\u001b[0m)             │ (\u001b[38;5;45mNone\u001b[0m, \u001b[38;5;34m512\u001b[0m)            │             \u001b[38;5;34m0\u001b[0m │\n",
       "├─────────────────────────────────┼────────────────────────┼───────────────┤\n",
       "│ activation_7 (\u001b[38;5;33mActivation\u001b[0m)       │ (\u001b[38;5;45mNone\u001b[0m, \u001b[38;5;34m512\u001b[0m)            │             \u001b[38;5;34m0\u001b[0m │\n",
       "├─────────────────────────────────┼────────────────────────┼───────────────┤\n",
       "│ dense_2 (\u001b[38;5;33mDense\u001b[0m)                 │ (\u001b[38;5;45mNone\u001b[0m, \u001b[38;5;34m400\u001b[0m)            │       \u001b[38;5;34m205,200\u001b[0m │\n",
       "├─────────────────────────────────┼────────────────────────┼───────────────┤\n",
       "│ dropout_2 (\u001b[38;5;33mDropout\u001b[0m)             │ (\u001b[38;5;45mNone\u001b[0m, \u001b[38;5;34m400\u001b[0m)            │             \u001b[38;5;34m0\u001b[0m │\n",
       "├─────────────────────────────────┼────────────────────────┼───────────────┤\n",
       "│ activation_8 (\u001b[38;5;33mActivation\u001b[0m)       │ (\u001b[38;5;45mNone\u001b[0m, \u001b[38;5;34m400\u001b[0m)            │             \u001b[38;5;34m0\u001b[0m │\n",
       "├─────────────────────────────────┼────────────────────────┼───────────────┤\n",
       "│ dense_3 (\u001b[38;5;33mDense\u001b[0m)                 │ (\u001b[38;5;45mNone\u001b[0m, \u001b[38;5;34m2\u001b[0m)              │           \u001b[38;5;34m802\u001b[0m │\n",
       "├─────────────────────────────────┼────────────────────────┼───────────────┤\n",
       "│ activation_9 (\u001b[38;5;33mActivation\u001b[0m)       │ (\u001b[38;5;45mNone\u001b[0m, \u001b[38;5;34m2\u001b[0m)              │             \u001b[38;5;34m0\u001b[0m │\n",
       "└─────────────────────────────────┴────────────────────────┴───────────────┘\n"
      ]
     },
     "metadata": {},
     "output_type": "display_data"
    },
    {
     "data": {
      "text/html": [
       "<pre style=\"white-space:pre;overflow-x:auto;line-height:normal;font-family:Menlo,'DejaVu Sans Mono',consolas,'Courier New',monospace\"><span style=\"font-weight: bold\"> Total params: </span><span style=\"color: #00af00; text-decoration-color: #00af00\">653,314</span> (2.49 MB)\n",
       "</pre>\n"
      ],
      "text/plain": [
       "\u001b[1m Total params: \u001b[0m\u001b[38;5;34m653,314\u001b[0m (2.49 MB)\n"
      ]
     },
     "metadata": {},
     "output_type": "display_data"
    },
    {
     "data": {
      "text/html": [
       "<pre style=\"white-space:pre;overflow-x:auto;line-height:normal;font-family:Menlo,'DejaVu Sans Mono',consolas,'Courier New',monospace\"><span style=\"font-weight: bold\"> Trainable params: </span><span style=\"color: #00af00; text-decoration-color: #00af00\">653,314</span> (2.49 MB)\n",
       "</pre>\n"
      ],
      "text/plain": [
       "\u001b[1m Trainable params: \u001b[0m\u001b[38;5;34m653,314\u001b[0m (2.49 MB)\n"
      ]
     },
     "metadata": {},
     "output_type": "display_data"
    },
    {
     "data": {
      "text/html": [
       "<pre style=\"white-space:pre;overflow-x:auto;line-height:normal;font-family:Menlo,'DejaVu Sans Mono',consolas,'Courier New',monospace\"><span style=\"font-weight: bold\"> Non-trainable params: </span><span style=\"color: #00af00; text-decoration-color: #00af00\">0</span> (0.00 B)\n",
       "</pre>\n"
      ],
      "text/plain": [
       "\u001b[1m Non-trainable params: \u001b[0m\u001b[38;5;34m0\u001b[0m (0.00 B)\n"
      ]
     },
     "metadata": {},
     "output_type": "display_data"
    }
   ],
   "source": [
    "# Not using transfer learning\n",
    "# made our own model!\n",
    "\n",
    "inputs=Input(shape=input_shape)\n",
    "x = Conv2D(64,5,padding='same')(inputs)\n",
    "x = Activation(activation='relu')(x)\n",
    "x = MaxPool2D(strides=(2,2))(x)\n",
    "x = Conv2D(64,5,padding='same')(x)\n",
    "x = Activation(activation='relu')(x)\n",
    "x = MaxPool2D(strides=(2,2))(x)\n",
    "x = Conv2D(64,5,padding='same')(x)\n",
    "x = Activation(activation='relu')(x)\n",
    "x = MaxPool2D(strides=(2,2))(x)\n",
    "\n",
    " #Decreasing Filters and MAxPool Layers\n",
    "x = Conv2D(32,3,padding='same',dilation_rate=2)(x)\n",
    "x = Activation(activation='relu')(x)\n",
    "# x = BatchNormalization()(x)\n",
    "x = MaxPool2D(strides=(2,2))(x)\n",
    "x = Conv2D(16,3,padding='same',dilation_rate=2)(x)\n",
    "x = Activation(activation='relu')(x)\n",
    "x = MaxPool2D(strides=(2,2))(x)\n",
    "# x = BatchNormalization()(x)\n",
    "x = Conv2D(16,3,padding='same',dilation_rate=2)(x)\n",
    "x = Activation(activation='relu')(x)\n",
    "x = MaxPool2D(strides=(2,2))(x)\n",
    "\n",
    " #Dense Layers\n",
    "x = GlobalAveragePooling2D()(x)\n",
    "x = Flatten()(x)\n",
    "x = Dense(400)(x)\n",
    "x = Dropout(0.5)(x)\n",
    "x = Activation(activation='relu')(x)\n",
    "x = Dense(512)(x)\n",
    "x = Dropout(0.5)(x)\n",
    "x = Activation(activation='relu')(x)\n",
    "x = Dense(400)(x)\n",
    "x = Dropout(0.5)(x)\n",
    "x = Activation(activation='relu')(x)\n",
    "x = Dense(2)(x)\n",
    "\n",
    "#Output\n",
    "out = Activation(activation='sigmoid')(x)\n",
    "\n",
    "# final model:\n",
    "model = Model(inputs,out,name='BaseModel')\n",
    "model.compile(loss='binary_crossentropy',\n",
    "              optimizer=optimizers.Adam(learning_rate=1e-5, beta_1=0.9, beta_2=0.999),\n",
    "              metrics=['accuracy'])\n",
    "\n",
    "model.summary()"
   ]
  },
  {
   "cell_type": "code",
   "execution_count": 9,
   "id": "8bfb30ae",
   "metadata": {
    "execution": {
     "iopub.execute_input": "2024-05-03T04:30:31.387882Z",
     "iopub.status.busy": "2024-05-03T04:30:31.387238Z",
     "iopub.status.idle": "2024-05-03T04:35:48.860693Z",
     "shell.execute_reply": "2024-05-03T04:35:48.859686Z"
    },
    "papermill": {
     "duration": 317.484482,
     "end_time": "2024-05-03T04:35:48.862980",
     "exception": false,
     "start_time": "2024-05-03T04:30:31.378498",
     "status": "completed"
    },
    "tags": []
   },
   "outputs": [
    {
     "name": "stdout",
     "output_type": "stream",
     "text": [
      "Epoch 1/100\n",
      "\u001b[1m 10/150\u001b[0m \u001b[32m━\u001b[0m\u001b[37m━━━━━━━━━━━━━━━━━━━\u001b[0m \u001b[1m2s\u001b[0m 19ms/step - accuracy: 0.4713 - loss: 0.6935"
     ]
    },
    {
     "name": "stderr",
     "output_type": "stream",
     "text": [
      "WARNING: All log messages before absl::InitializeLog() is called are written to STDERR\n",
      "I0000 00:00:1714710646.541668      79 device_compiler.h:186] Compiled cluster using XLA!  This line is logged at most once for the lifetime of the process.\n"
     ]
    },
    {
     "name": "stdout",
     "output_type": "stream",
     "text": [
      "\u001b[1m148/150\u001b[0m \u001b[32m━━━━━━━━━━━━━━━━━━━\u001b[0m\u001b[37m━\u001b[0m \u001b[1m0s\u001b[0m 18ms/step - accuracy: 0.4989 - loss: 0.6932\n",
      "Epoch 1: val_accuracy improved from -inf to 0.49417, saving model to /kaggle/working/deepfake.keras\n",
      "\u001b[1m150/150\u001b[0m \u001b[32m━━━━━━━━━━━━━━━━━━━━\u001b[0m\u001b[37m\u001b[0m \u001b[1m19s\u001b[0m 37ms/step - accuracy: 0.4990 - loss: 0.6932 - val_accuracy: 0.4942 - val_loss: 0.6931\n",
      "Epoch 2/100\n",
      "\u001b[1m148/150\u001b[0m \u001b[32m━━━━━━━━━━━━━━━━━━━\u001b[0m\u001b[37m━\u001b[0m \u001b[1m0s\u001b[0m 18ms/step - accuracy: 0.5165 - loss: 0.6930\n",
      "Epoch 2: val_accuracy did not improve from 0.49417\n",
      "\u001b[1m150/150\u001b[0m \u001b[32m━━━━━━━━━━━━━━━━━━━━\u001b[0m\u001b[37m\u001b[0m \u001b[1m3s\u001b[0m 19ms/step - accuracy: 0.5162 - loss: 0.6930 - val_accuracy: 0.4942 - val_loss: 0.6931\n",
      "Epoch 3/100\n",
      "\u001b[1m148/150\u001b[0m \u001b[32m━━━━━━━━━━━━━━━━━━━\u001b[0m\u001b[37m━\u001b[0m \u001b[1m0s\u001b[0m 18ms/step - accuracy: 0.4958 - loss: 0.6931\n",
      "Epoch 3: val_accuracy did not improve from 0.49417\n",
      "\u001b[1m150/150\u001b[0m \u001b[32m━━━━━━━━━━━━━━━━━━━━\u001b[0m\u001b[37m\u001b[0m \u001b[1m3s\u001b[0m 19ms/step - accuracy: 0.4959 - loss: 0.6931 - val_accuracy: 0.4942 - val_loss: 0.6931\n",
      "Epoch 4/100\n",
      "\u001b[1m148/150\u001b[0m \u001b[32m━━━━━━━━━━━━━━━━━━━\u001b[0m\u001b[37m━\u001b[0m \u001b[1m0s\u001b[0m 18ms/step - accuracy: 0.5095 - loss: 0.6931\n",
      "Epoch 4: val_accuracy did not improve from 0.49417\n",
      "\u001b[1m150/150\u001b[0m \u001b[32m━━━━━━━━━━━━━━━━━━━━\u001b[0m\u001b[37m\u001b[0m \u001b[1m3s\u001b[0m 20ms/step - accuracy: 0.5094 - loss: 0.6931 - val_accuracy: 0.4942 - val_loss: 0.6930\n",
      "Epoch 5/100\n",
      "\u001b[1m148/150\u001b[0m \u001b[32m━━━━━━━━━━━━━━━━━━━\u001b[0m\u001b[37m━\u001b[0m \u001b[1m0s\u001b[0m 18ms/step - accuracy: 0.5136 - loss: 0.6930\n",
      "Epoch 5: val_accuracy did not improve from 0.49417\n",
      "\u001b[1m150/150\u001b[0m \u001b[32m━━━━━━━━━━━━━━━━━━━━\u001b[0m\u001b[37m\u001b[0m \u001b[1m3s\u001b[0m 20ms/step - accuracy: 0.5134 - loss: 0.6930 - val_accuracy: 0.4942 - val_loss: 0.6930\n",
      "Epoch 6/100\n",
      "\u001b[1m148/150\u001b[0m \u001b[32m━━━━━━━━━━━━━━━━━━━\u001b[0m\u001b[37m━\u001b[0m \u001b[1m0s\u001b[0m 18ms/step - accuracy: 0.5024 - loss: 0.6929\n",
      "Epoch 6: val_accuracy did not improve from 0.49417\n",
      "\u001b[1m150/150\u001b[0m \u001b[32m━━━━━━━━━━━━━━━━━━━━\u001b[0m\u001b[37m\u001b[0m \u001b[1m3s\u001b[0m 20ms/step - accuracy: 0.5023 - loss: 0.6929 - val_accuracy: 0.4942 - val_loss: 0.6929\n",
      "Epoch 7/100\n",
      "\u001b[1m148/150\u001b[0m \u001b[32m━━━━━━━━━━━━━━━━━━━\u001b[0m\u001b[37m━\u001b[0m \u001b[1m0s\u001b[0m 18ms/step - accuracy: 0.5105 - loss: 0.6929\n",
      "Epoch 7: val_accuracy did not improve from 0.49417\n",
      "\u001b[1m150/150\u001b[0m \u001b[32m━━━━━━━━━━━━━━━━━━━━\u001b[0m\u001b[37m\u001b[0m \u001b[1m3s\u001b[0m 19ms/step - accuracy: 0.5105 - loss: 0.6929 - val_accuracy: 0.4942 - val_loss: 0.6928\n",
      "Epoch 8/100\n",
      "\u001b[1m148/150\u001b[0m \u001b[32m━━━━━━━━━━━━━━━━━━━\u001b[0m\u001b[37m━\u001b[0m \u001b[1m0s\u001b[0m 18ms/step - accuracy: 0.5124 - loss: 0.6927\n",
      "Epoch 8: val_accuracy did not improve from 0.49417\n",
      "\u001b[1m150/150\u001b[0m \u001b[32m━━━━━━━━━━━━━━━━━━━━\u001b[0m\u001b[37m\u001b[0m \u001b[1m3s\u001b[0m 20ms/step - accuracy: 0.5123 - loss: 0.6927 - val_accuracy: 0.4942 - val_loss: 0.6925\n",
      "Epoch 9/100\n",
      "\u001b[1m148/150\u001b[0m \u001b[32m━━━━━━━━━━━━━━━━━━━\u001b[0m\u001b[37m━\u001b[0m \u001b[1m0s\u001b[0m 18ms/step - accuracy: 0.5143 - loss: 0.6924\n",
      "Epoch 9: val_accuracy did not improve from 0.49417\n",
      "\u001b[1m150/150\u001b[0m \u001b[32m━━━━━━━━━━━━━━━━━━━━\u001b[0m\u001b[37m\u001b[0m \u001b[1m3s\u001b[0m 20ms/step - accuracy: 0.5143 - loss: 0.6924 - val_accuracy: 0.4942 - val_loss: 0.6920\n",
      "Epoch 10/100\n",
      "\u001b[1m148/150\u001b[0m \u001b[32m━━━━━━━━━━━━━━━━━━━\u001b[0m\u001b[37m━\u001b[0m \u001b[1m0s\u001b[0m 18ms/step - accuracy: 0.5160 - loss: 0.6917\n",
      "Epoch 10: val_accuracy did not improve from 0.49417\n",
      "\u001b[1m150/150\u001b[0m \u001b[32m━━━━━━━━━━━━━━━━━━━━\u001b[0m\u001b[37m\u001b[0m \u001b[1m3s\u001b[0m 20ms/step - accuracy: 0.5161 - loss: 0.6917 - val_accuracy: 0.4942 - val_loss: 0.6916\n",
      "Epoch 11/100\n",
      "\u001b[1m148/150\u001b[0m \u001b[32m━━━━━━━━━━━━━━━━━━━\u001b[0m\u001b[37m━\u001b[0m \u001b[1m0s\u001b[0m 18ms/step - accuracy: 0.5122 - loss: 0.6907\n",
      "Epoch 11: val_accuracy did not improve from 0.49417\n",
      "\u001b[1m150/150\u001b[0m \u001b[32m━━━━━━━━━━━━━━━━━━━━\u001b[0m\u001b[37m\u001b[0m \u001b[1m3s\u001b[0m 19ms/step - accuracy: 0.5123 - loss: 0.6907 - val_accuracy: 0.4942 - val_loss: 0.6890\n",
      "Epoch 12/100\n",
      "\u001b[1m148/150\u001b[0m \u001b[32m━━━━━━━━━━━━━━━━━━━\u001b[0m\u001b[37m━\u001b[0m \u001b[1m0s\u001b[0m 18ms/step - accuracy: 0.5281 - loss: 0.6888\n",
      "Epoch 12: val_accuracy improved from 0.49417 to 0.52750, saving model to /kaggle/working/deepfake.keras\n",
      "\u001b[1m150/150\u001b[0m \u001b[32m━━━━━━━━━━━━━━━━━━━━\u001b[0m\u001b[37m\u001b[0m \u001b[1m3s\u001b[0m 20ms/step - accuracy: 0.5281 - loss: 0.6888 - val_accuracy: 0.5275 - val_loss: 0.6848\n",
      "Epoch 13/100\n",
      "\u001b[1m148/150\u001b[0m \u001b[32m━━━━━━━━━━━━━━━━━━━\u001b[0m\u001b[37m━\u001b[0m \u001b[1m0s\u001b[0m 18ms/step - accuracy: 0.5482 - loss: 0.6840\n",
      "Epoch 13: val_accuracy improved from 0.52750 to 0.62167, saving model to /kaggle/working/deepfake.keras\n",
      "\u001b[1m150/150\u001b[0m \u001b[32m━━━━━━━━━━━━━━━━━━━━\u001b[0m\u001b[37m\u001b[0m \u001b[1m3s\u001b[0m 20ms/step - accuracy: 0.5484 - loss: 0.6840 - val_accuracy: 0.6217 - val_loss: 0.6763\n",
      "Epoch 14/100\n",
      "\u001b[1m148/150\u001b[0m \u001b[32m━━━━━━━━━━━━━━━━━━━\u001b[0m\u001b[37m━\u001b[0m \u001b[1m0s\u001b[0m 18ms/step - accuracy: 0.5706 - loss: 0.6767\n",
      "Epoch 14: val_accuracy improved from 0.62167 to 0.66667, saving model to /kaggle/working/deepfake.keras\n",
      "\u001b[1m150/150\u001b[0m \u001b[32m━━━━━━━━━━━━━━━━━━━━\u001b[0m\u001b[37m\u001b[0m \u001b[1m3s\u001b[0m 20ms/step - accuracy: 0.5709 - loss: 0.6767 - val_accuracy: 0.6667 - val_loss: 0.6613\n",
      "Epoch 15/100\n",
      "\u001b[1m148/150\u001b[0m \u001b[32m━━━━━━━━━━━━━━━━━━━\u001b[0m\u001b[37m━\u001b[0m \u001b[1m0s\u001b[0m 18ms/step - accuracy: 0.6230 - loss: 0.6660\n",
      "Epoch 15: val_accuracy did not improve from 0.66667\n",
      "\u001b[1m150/150\u001b[0m \u001b[32m━━━━━━━━━━━━━━━━━━━━\u001b[0m\u001b[37m\u001b[0m \u001b[1m3s\u001b[0m 19ms/step - accuracy: 0.6232 - loss: 0.6658 - val_accuracy: 0.6350 - val_loss: 0.6428\n",
      "Epoch 16/100\n",
      "\u001b[1m148/150\u001b[0m \u001b[32m━━━━━━━━━━━━━━━━━━━\u001b[0m\u001b[37m━\u001b[0m \u001b[1m0s\u001b[0m 18ms/step - accuracy: 0.6448 - loss: 0.6507\n",
      "Epoch 16: val_accuracy improved from 0.66667 to 0.69833, saving model to /kaggle/working/deepfake.keras\n",
      "\u001b[1m150/150\u001b[0m \u001b[32m━━━━━━━━━━━━━━━━━━━━\u001b[0m\u001b[37m\u001b[0m \u001b[1m3s\u001b[0m 20ms/step - accuracy: 0.6450 - loss: 0.6506 - val_accuracy: 0.6983 - val_loss: 0.6114\n",
      "Epoch 17/100\n",
      "\u001b[1m148/150\u001b[0m \u001b[32m━━━━━━━━━━━━━━━━━━━\u001b[0m\u001b[37m━\u001b[0m \u001b[1m0s\u001b[0m 18ms/step - accuracy: 0.6659 - loss: 0.6286\n",
      "Epoch 17: val_accuracy did not improve from 0.69833\n",
      "\u001b[1m150/150\u001b[0m \u001b[32m━━━━━━━━━━━━━━━━━━━━\u001b[0m\u001b[37m\u001b[0m \u001b[1m3s\u001b[0m 19ms/step - accuracy: 0.6662 - loss: 0.6285 - val_accuracy: 0.6683 - val_loss: 0.6091\n",
      "Epoch 18/100\n",
      "\u001b[1m148/150\u001b[0m \u001b[32m━━━━━━━━━━━━━━━━━━━\u001b[0m\u001b[37m━\u001b[0m \u001b[1m0s\u001b[0m 18ms/step - accuracy: 0.7114 - loss: 0.5946\n",
      "Epoch 18: val_accuracy improved from 0.69833 to 0.73333, saving model to /kaggle/working/deepfake.keras\n",
      "\u001b[1m150/150\u001b[0m \u001b[32m━━━━━━━━━━━━━━━━━━━━\u001b[0m\u001b[37m\u001b[0m \u001b[1m3s\u001b[0m 20ms/step - accuracy: 0.7114 - loss: 0.5945 - val_accuracy: 0.7333 - val_loss: 0.5463\n",
      "Epoch 19/100\n",
      "\u001b[1m148/150\u001b[0m \u001b[32m━━━━━━━━━━━━━━━━━━━\u001b[0m\u001b[37m━\u001b[0m \u001b[1m0s\u001b[0m 18ms/step - accuracy: 0.7281 - loss: 0.5618\n",
      "Epoch 19: val_accuracy improved from 0.73333 to 0.78083, saving model to /kaggle/working/deepfake.keras\n",
      "\u001b[1m150/150\u001b[0m \u001b[32m━━━━━━━━━━━━━━━━━━━━\u001b[0m\u001b[37m\u001b[0m \u001b[1m3s\u001b[0m 20ms/step - accuracy: 0.7281 - loss: 0.5618 - val_accuracy: 0.7808 - val_loss: 0.5016\n",
      "Epoch 20/100\n",
      "\u001b[1m148/150\u001b[0m \u001b[32m━━━━━━━━━━━━━━━━━━━\u001b[0m\u001b[37m━\u001b[0m \u001b[1m0s\u001b[0m 18ms/step - accuracy: 0.7625 - loss: 0.5311\n",
      "Epoch 20: val_accuracy improved from 0.78083 to 0.80750, saving model to /kaggle/working/deepfake.keras\n",
      "\u001b[1m150/150\u001b[0m \u001b[32m━━━━━━━━━━━━━━━━━━━━\u001b[0m\u001b[37m\u001b[0m \u001b[1m3s\u001b[0m 20ms/step - accuracy: 0.7625 - loss: 0.5309 - val_accuracy: 0.8075 - val_loss: 0.4698\n",
      "Epoch 21/100\n",
      "\u001b[1m148/150\u001b[0m \u001b[32m━━━━━━━━━━━━━━━━━━━\u001b[0m\u001b[37m━\u001b[0m \u001b[1m0s\u001b[0m 18ms/step - accuracy: 0.7960 - loss: 0.4870\n",
      "Epoch 21: val_accuracy improved from 0.80750 to 0.86917, saving model to /kaggle/working/deepfake.keras\n",
      "\u001b[1m150/150\u001b[0m \u001b[32m━━━━━━━━━━━━━━━━━━━━\u001b[0m\u001b[37m\u001b[0m \u001b[1m3s\u001b[0m 20ms/step - accuracy: 0.7961 - loss: 0.4868 - val_accuracy: 0.8692 - val_loss: 0.3808\n",
      "Epoch 22/100\n",
      "\u001b[1m148/150\u001b[0m \u001b[32m━━━━━━━━━━━━━━━━━━━\u001b[0m\u001b[37m━\u001b[0m \u001b[1m0s\u001b[0m 18ms/step - accuracy: 0.8292 - loss: 0.4288\n",
      "Epoch 22: val_accuracy improved from 0.86917 to 0.89250, saving model to /kaggle/working/deepfake.keras\n",
      "\u001b[1m150/150\u001b[0m \u001b[32m━━━━━━━━━━━━━━━━━━━━\u001b[0m\u001b[37m\u001b[0m \u001b[1m3s\u001b[0m 20ms/step - accuracy: 0.8293 - loss: 0.4287 - val_accuracy: 0.8925 - val_loss: 0.3185\n",
      "Epoch 23/100\n",
      "\u001b[1m148/150\u001b[0m \u001b[32m━━━━━━━━━━━━━━━━━━━\u001b[0m\u001b[37m━\u001b[0m \u001b[1m0s\u001b[0m 18ms/step - accuracy: 0.8653 - loss: 0.3749\n",
      "Epoch 23: val_accuracy did not improve from 0.89250\n",
      "\u001b[1m150/150\u001b[0m \u001b[32m━━━━━━━━━━━━━━━━━━━━\u001b[0m\u001b[37m\u001b[0m \u001b[1m3s\u001b[0m 20ms/step - accuracy: 0.8651 - loss: 0.3748 - val_accuracy: 0.8425 - val_loss: 0.3708\n",
      "Epoch 24/100\n",
      "\u001b[1m148/150\u001b[0m \u001b[32m━━━━━━━━━━━━━━━━━━━\u001b[0m\u001b[37m━\u001b[0m \u001b[1m0s\u001b[0m 18ms/step - accuracy: 0.8642 - loss: 0.3581\n",
      "Epoch 24: val_accuracy improved from 0.89250 to 0.90000, saving model to /kaggle/working/deepfake.keras\n",
      "\u001b[1m150/150\u001b[0m \u001b[32m━━━━━━━━━━━━━━━━━━━━\u001b[0m\u001b[37m\u001b[0m \u001b[1m3s\u001b[0m 20ms/step - accuracy: 0.8644 - loss: 0.3577 - val_accuracy: 0.9000 - val_loss: 0.2679\n",
      "Epoch 25/100\n",
      "\u001b[1m148/150\u001b[0m \u001b[32m━━━━━━━━━━━━━━━━━━━\u001b[0m\u001b[37m━\u001b[0m \u001b[1m0s\u001b[0m 18ms/step - accuracy: 0.8953 - loss: 0.2990\n",
      "Epoch 25: val_accuracy improved from 0.90000 to 0.90250, saving model to /kaggle/working/deepfake.keras\n",
      "\u001b[1m150/150\u001b[0m \u001b[32m━━━━━━━━━━━━━━━━━━━━\u001b[0m\u001b[37m\u001b[0m \u001b[1m3s\u001b[0m 20ms/step - accuracy: 0.8951 - loss: 0.2992 - val_accuracy: 0.9025 - val_loss: 0.2684\n",
      "Epoch 26/100\n",
      "\u001b[1m148/150\u001b[0m \u001b[32m━━━━━━━━━━━━━━━━━━━\u001b[0m\u001b[37m━\u001b[0m \u001b[1m0s\u001b[0m 18ms/step - accuracy: 0.8925 - loss: 0.2814\n",
      "Epoch 26: val_accuracy improved from 0.90250 to 0.92833, saving model to /kaggle/working/deepfake.keras\n",
      "\u001b[1m150/150\u001b[0m \u001b[32m━━━━━━━━━━━━━━━━━━━━\u001b[0m\u001b[37m\u001b[0m \u001b[1m3s\u001b[0m 20ms/step - accuracy: 0.8926 - loss: 0.2813 - val_accuracy: 0.9283 - val_loss: 0.1959\n",
      "Epoch 27/100\n",
      "\u001b[1m148/150\u001b[0m \u001b[32m━━━━━━━━━━━━━━━━━━━\u001b[0m\u001b[37m━\u001b[0m \u001b[1m0s\u001b[0m 18ms/step - accuracy: 0.9134 - loss: 0.2520\n",
      "Epoch 27: val_accuracy improved from 0.92833 to 0.93083, saving model to /kaggle/working/deepfake.keras\n",
      "\u001b[1m150/150\u001b[0m \u001b[32m━━━━━━━━━━━━━━━━━━━━\u001b[0m\u001b[37m\u001b[0m \u001b[1m3s\u001b[0m 20ms/step - accuracy: 0.9135 - loss: 0.2519 - val_accuracy: 0.9308 - val_loss: 0.1791\n",
      "Epoch 28/100\n",
      "\u001b[1m148/150\u001b[0m \u001b[32m━━━━━━━━━━━━━━━━━━━\u001b[0m\u001b[37m━\u001b[0m \u001b[1m0s\u001b[0m 18ms/step - accuracy: 0.9182 - loss: 0.2338\n",
      "Epoch 28: val_accuracy improved from 0.93083 to 0.94000, saving model to /kaggle/working/deepfake.keras\n",
      "\u001b[1m150/150\u001b[0m \u001b[32m━━━━━━━━━━━━━━━━━━━━\u001b[0m\u001b[37m\u001b[0m \u001b[1m3s\u001b[0m 20ms/step - accuracy: 0.9183 - loss: 0.2338 - val_accuracy: 0.9400 - val_loss: 0.1700\n",
      "Epoch 29/100\n",
      "\u001b[1m148/150\u001b[0m \u001b[32m━━━━━━━━━━━━━━━━━━━\u001b[0m\u001b[37m━\u001b[0m \u001b[1m0s\u001b[0m 18ms/step - accuracy: 0.9184 - loss: 0.2213\n",
      "Epoch 29: val_accuracy did not improve from 0.94000\n",
      "\u001b[1m150/150\u001b[0m \u001b[32m━━━━━━━━━━━━━━━━━━━━\u001b[0m\u001b[37m\u001b[0m \u001b[1m3s\u001b[0m 20ms/step - accuracy: 0.9186 - loss: 0.2211 - val_accuracy: 0.9400 - val_loss: 0.1572\n",
      "Epoch 30/100\n",
      "\u001b[1m148/150\u001b[0m \u001b[32m━━━━━━━━━━━━━━━━━━━\u001b[0m\u001b[37m━\u001b[0m \u001b[1m0s\u001b[0m 18ms/step - accuracy: 0.9184 - loss: 0.2195\n",
      "Epoch 30: val_accuracy improved from 0.94000 to 0.94167, saving model to /kaggle/working/deepfake.keras\n",
      "\u001b[1m150/150\u001b[0m \u001b[32m━━━━━━━━━━━━━━━━━━━━\u001b[0m\u001b[37m\u001b[0m \u001b[1m3s\u001b[0m 20ms/step - accuracy: 0.9184 - loss: 0.2196 - val_accuracy: 0.9417 - val_loss: 0.1654\n",
      "Epoch 31/100\n",
      "\u001b[1m148/150\u001b[0m \u001b[32m━━━━━━━━━━━━━━━━━━━\u001b[0m\u001b[37m━\u001b[0m \u001b[1m0s\u001b[0m 18ms/step - accuracy: 0.9221 - loss: 0.2166\n",
      "Epoch 31: val_accuracy improved from 0.94167 to 0.94833, saving model to /kaggle/working/deepfake.keras\n",
      "\u001b[1m150/150\u001b[0m \u001b[32m━━━━━━━━━━━━━━━━━━━━\u001b[0m\u001b[37m\u001b[0m \u001b[1m3s\u001b[0m 20ms/step - accuracy: 0.9224 - loss: 0.2162 - val_accuracy: 0.9483 - val_loss: 0.1381\n",
      "Epoch 32/100\n",
      "\u001b[1m148/150\u001b[0m \u001b[32m━━━━━━━━━━━━━━━━━━━\u001b[0m\u001b[37m━\u001b[0m \u001b[1m0s\u001b[0m 18ms/step - accuracy: 0.9460 - loss: 0.1679\n",
      "Epoch 32: val_accuracy did not improve from 0.94833\n",
      "\u001b[1m150/150\u001b[0m \u001b[32m━━━━━━━━━━━━━━━━━━━━\u001b[0m\u001b[37m\u001b[0m \u001b[1m3s\u001b[0m 19ms/step - accuracy: 0.9458 - loss: 0.1683 - val_accuracy: 0.9442 - val_loss: 0.1559\n",
      "Epoch 33/100\n",
      "\u001b[1m148/150\u001b[0m \u001b[32m━━━━━━━━━━━━━━━━━━━\u001b[0m\u001b[37m━\u001b[0m \u001b[1m0s\u001b[0m 18ms/step - accuracy: 0.9384 - loss: 0.1808\n",
      "Epoch 33: val_accuracy improved from 0.94833 to 0.95500, saving model to /kaggle/working/deepfake.keras\n",
      "\u001b[1m150/150\u001b[0m \u001b[32m━━━━━━━━━━━━━━━━━━━━\u001b[0m\u001b[37m\u001b[0m \u001b[1m3s\u001b[0m 20ms/step - accuracy: 0.9384 - loss: 0.1808 - val_accuracy: 0.9550 - val_loss: 0.1256\n",
      "Epoch 34/100\n",
      "\u001b[1m148/150\u001b[0m \u001b[32m━━━━━━━━━━━━━━━━━━━\u001b[0m\u001b[37m━\u001b[0m \u001b[1m0s\u001b[0m 18ms/step - accuracy: 0.9343 - loss: 0.1753\n",
      "Epoch 34: val_accuracy improved from 0.95500 to 0.95917, saving model to /kaggle/working/deepfake.keras\n",
      "\u001b[1m150/150\u001b[0m \u001b[32m━━━━━━━━━━━━━━━━━━━━\u001b[0m\u001b[37m\u001b[0m \u001b[1m3s\u001b[0m 20ms/step - accuracy: 0.9344 - loss: 0.1754 - val_accuracy: 0.9592 - val_loss: 0.1204\n",
      "Epoch 35/100\n",
      "\u001b[1m148/150\u001b[0m \u001b[32m━━━━━━━━━━━━━━━━━━━\u001b[0m\u001b[37m━\u001b[0m \u001b[1m0s\u001b[0m 18ms/step - accuracy: 0.9381 - loss: 0.1816\n",
      "Epoch 35: val_accuracy did not improve from 0.95917\n",
      "\u001b[1m150/150\u001b[0m \u001b[32m━━━━━━━━━━━━━━━━━━━━\u001b[0m\u001b[37m\u001b[0m \u001b[1m3s\u001b[0m 20ms/step - accuracy: 0.9380 - loss: 0.1816 - val_accuracy: 0.9525 - val_loss: 0.1224\n",
      "Epoch 36/100\n",
      "\u001b[1m148/150\u001b[0m \u001b[32m━━━━━━━━━━━━━━━━━━━\u001b[0m\u001b[37m━\u001b[0m \u001b[1m0s\u001b[0m 18ms/step - accuracy: 0.9372 - loss: 0.1814\n",
      "Epoch 36: val_accuracy improved from 0.95917 to 0.96000, saving model to /kaggle/working/deepfake.keras\n",
      "\u001b[1m150/150\u001b[0m \u001b[32m━━━━━━━━━━━━━━━━━━━━\u001b[0m\u001b[37m\u001b[0m \u001b[1m3s\u001b[0m 20ms/step - accuracy: 0.9373 - loss: 0.1812 - val_accuracy: 0.9600 - val_loss: 0.1112\n",
      "Epoch 37/100\n",
      "\u001b[1m148/150\u001b[0m \u001b[32m━━━━━━━━━━━━━━━━━━━\u001b[0m\u001b[37m━\u001b[0m \u001b[1m0s\u001b[0m 18ms/step - accuracy: 0.9365 - loss: 0.1775\n",
      "Epoch 37: val_accuracy did not improve from 0.96000\n",
      "\u001b[1m150/150\u001b[0m \u001b[32m━━━━━━━━━━━━━━━━━━━━\u001b[0m\u001b[37m\u001b[0m \u001b[1m3s\u001b[0m 20ms/step - accuracy: 0.9366 - loss: 0.1772 - val_accuracy: 0.9267 - val_loss: 0.1766\n",
      "Epoch 38/100\n",
      "\u001b[1m148/150\u001b[0m \u001b[32m━━━━━━━━━━━━━━━━━━━\u001b[0m\u001b[37m━\u001b[0m \u001b[1m0s\u001b[0m 18ms/step - accuracy: 0.9504 - loss: 0.1491\n",
      "Epoch 38: val_accuracy did not improve from 0.96000\n",
      "\u001b[1m150/150\u001b[0m \u001b[32m━━━━━━━━━━━━━━━━━━━━\u001b[0m\u001b[37m\u001b[0m \u001b[1m3s\u001b[0m 20ms/step - accuracy: 0.9503 - loss: 0.1491 - val_accuracy: 0.9183 - val_loss: 0.1957\n",
      "Epoch 39/100\n",
      "\u001b[1m148/150\u001b[0m \u001b[32m━━━━━━━━━━━━━━━━━━━\u001b[0m\u001b[37m━\u001b[0m \u001b[1m0s\u001b[0m 18ms/step - accuracy: 0.9474 - loss: 0.1529\n",
      "Epoch 39: val_accuracy improved from 0.96000 to 0.96500, saving model to /kaggle/working/deepfake.keras\n",
      "\u001b[1m150/150\u001b[0m \u001b[32m━━━━━━━━━━━━━━━━━━━━\u001b[0m\u001b[37m\u001b[0m \u001b[1m3s\u001b[0m 21ms/step - accuracy: 0.9474 - loss: 0.1528 - val_accuracy: 0.9650 - val_loss: 0.1007\n",
      "Epoch 40/100\n",
      "\u001b[1m148/150\u001b[0m \u001b[32m━━━━━━━━━━━━━━━━━━━\u001b[0m\u001b[37m━\u001b[0m \u001b[1m0s\u001b[0m 18ms/step - accuracy: 0.9496 - loss: 0.1410\n",
      "Epoch 40: val_accuracy did not improve from 0.96500\n",
      "\u001b[1m150/150\u001b[0m \u001b[32m━━━━━━━━━━━━━━━━━━━━\u001b[0m\u001b[37m\u001b[0m \u001b[1m3s\u001b[0m 20ms/step - accuracy: 0.9497 - loss: 0.1409 - val_accuracy: 0.9567 - val_loss: 0.1149\n",
      "Epoch 41/100\n",
      "\u001b[1m148/150\u001b[0m \u001b[32m━━━━━━━━━━━━━━━━━━━\u001b[0m\u001b[37m━\u001b[0m \u001b[1m0s\u001b[0m 18ms/step - accuracy: 0.9549 - loss: 0.1291\n",
      "Epoch 41: val_accuracy improved from 0.96500 to 0.96667, saving model to /kaggle/working/deepfake.keras\n",
      "\u001b[1m150/150\u001b[0m \u001b[32m━━━━━━━━━━━━━━━━━━━━\u001b[0m\u001b[37m\u001b[0m \u001b[1m3s\u001b[0m 21ms/step - accuracy: 0.9549 - loss: 0.1290 - val_accuracy: 0.9667 - val_loss: 0.0950\n",
      "Epoch 42/100\n",
      "\u001b[1m148/150\u001b[0m \u001b[32m━━━━━━━━━━━━━━━━━━━\u001b[0m\u001b[37m━\u001b[0m \u001b[1m0s\u001b[0m 18ms/step - accuracy: 0.9569 - loss: 0.1286\n",
      "Epoch 42: val_accuracy improved from 0.96667 to 0.96833, saving model to /kaggle/working/deepfake.keras\n",
      "\u001b[1m150/150\u001b[0m \u001b[32m━━━━━━━━━━━━━━━━━━━━\u001b[0m\u001b[37m\u001b[0m \u001b[1m3s\u001b[0m 20ms/step - accuracy: 0.9567 - loss: 0.1289 - val_accuracy: 0.9683 - val_loss: 0.0895\n",
      "Epoch 43/100\n",
      "\u001b[1m148/150\u001b[0m \u001b[32m━━━━━━━━━━━━━━━━━━━\u001b[0m\u001b[37m━\u001b[0m \u001b[1m0s\u001b[0m 18ms/step - accuracy: 0.9383 - loss: 0.1634\n",
      "Epoch 43: val_accuracy did not improve from 0.96833\n",
      "\u001b[1m150/150\u001b[0m \u001b[32m━━━━━━━━━━━━━━━━━━━━\u001b[0m\u001b[37m\u001b[0m \u001b[1m3s\u001b[0m 20ms/step - accuracy: 0.9385 - loss: 0.1632 - val_accuracy: 0.9025 - val_loss: 0.2570\n",
      "Epoch 44/100\n",
      "\u001b[1m148/150\u001b[0m \u001b[32m━━━━━━━━━━━━━━━━━━━\u001b[0m\u001b[37m━\u001b[0m \u001b[1m0s\u001b[0m 18ms/step - accuracy: 0.9460 - loss: 0.1493\n",
      "Epoch 44: val_accuracy improved from 0.96833 to 0.97083, saving model to /kaggle/working/deepfake.keras\n",
      "\u001b[1m150/150\u001b[0m \u001b[32m━━━━━━━━━━━━━━━━━━━━\u001b[0m\u001b[37m\u001b[0m \u001b[1m3s\u001b[0m 21ms/step - accuracy: 0.9462 - loss: 0.1491 - val_accuracy: 0.9708 - val_loss: 0.0873\n",
      "Epoch 45/100\n",
      "\u001b[1m148/150\u001b[0m \u001b[32m━━━━━━━━━━━━━━━━━━━\u001b[0m\u001b[37m━\u001b[0m \u001b[1m0s\u001b[0m 18ms/step - accuracy: 0.9551 - loss: 0.1314\n",
      "Epoch 45: val_accuracy improved from 0.97083 to 0.97167, saving model to /kaggle/working/deepfake.keras\n",
      "\u001b[1m150/150\u001b[0m \u001b[32m━━━━━━━━━━━━━━━━━━━━\u001b[0m\u001b[37m\u001b[0m \u001b[1m3s\u001b[0m 20ms/step - accuracy: 0.9550 - loss: 0.1317 - val_accuracy: 0.9717 - val_loss: 0.0884\n",
      "Epoch 46/100\n",
      "\u001b[1m148/150\u001b[0m \u001b[32m━━━━━━━━━━━━━━━━━━━\u001b[0m\u001b[37m━\u001b[0m \u001b[1m0s\u001b[0m 18ms/step - accuracy: 0.9592 - loss: 0.1245\n",
      "Epoch 46: val_accuracy did not improve from 0.97167\n",
      "\u001b[1m150/150\u001b[0m \u001b[32m━━━━━━━━━━━━━━━━━━━━\u001b[0m\u001b[37m\u001b[0m \u001b[1m3s\u001b[0m 20ms/step - accuracy: 0.9592 - loss: 0.1243 - val_accuracy: 0.9700 - val_loss: 0.0944\n",
      "Epoch 47/100\n",
      "\u001b[1m148/150\u001b[0m \u001b[32m━━━━━━━━━━━━━━━━━━━\u001b[0m\u001b[37m━\u001b[0m \u001b[1m0s\u001b[0m 18ms/step - accuracy: 0.9584 - loss: 0.1266\n",
      "Epoch 47: val_accuracy did not improve from 0.97167\n",
      "\u001b[1m150/150\u001b[0m \u001b[32m━━━━━━━━━━━━━━━━━━━━\u001b[0m\u001b[37m\u001b[0m \u001b[1m3s\u001b[0m 20ms/step - accuracy: 0.9584 - loss: 0.1264 - val_accuracy: 0.9717 - val_loss: 0.0866\n",
      "Epoch 48/100\n",
      "\u001b[1m148/150\u001b[0m \u001b[32m━━━━━━━━━━━━━━━━━━━\u001b[0m\u001b[37m━\u001b[0m \u001b[1m0s\u001b[0m 18ms/step - accuracy: 0.9666 - loss: 0.1005\n",
      "Epoch 48: val_accuracy improved from 0.97167 to 0.97417, saving model to /kaggle/working/deepfake.keras\n",
      "\u001b[1m150/150\u001b[0m \u001b[32m━━━━━━━━━━━━━━━━━━━━\u001b[0m\u001b[37m\u001b[0m \u001b[1m3s\u001b[0m 20ms/step - accuracy: 0.9665 - loss: 0.1007 - val_accuracy: 0.9742 - val_loss: 0.0806\n",
      "Epoch 49/100\n",
      "\u001b[1m148/150\u001b[0m \u001b[32m━━━━━━━━━━━━━━━━━━━\u001b[0m\u001b[37m━\u001b[0m \u001b[1m0s\u001b[0m 18ms/step - accuracy: 0.9659 - loss: 0.0972\n",
      "Epoch 49: val_accuracy did not improve from 0.97417\n",
      "\u001b[1m150/150\u001b[0m \u001b[32m━━━━━━━━━━━━━━━━━━━━\u001b[0m\u001b[37m\u001b[0m \u001b[1m3s\u001b[0m 20ms/step - accuracy: 0.9658 - loss: 0.0974 - val_accuracy: 0.9683 - val_loss: 0.0871\n",
      "Epoch 50/100\n",
      "\u001b[1m148/150\u001b[0m \u001b[32m━━━━━━━━━━━━━━━━━━━\u001b[0m\u001b[37m━\u001b[0m \u001b[1m0s\u001b[0m 18ms/step - accuracy: 0.9640 - loss: 0.1018\n",
      "Epoch 50: val_accuracy did not improve from 0.97417\n",
      "\u001b[1m150/150\u001b[0m \u001b[32m━━━━━━━━━━━━━━━━━━━━\u001b[0m\u001b[37m\u001b[0m \u001b[1m3s\u001b[0m 20ms/step - accuracy: 0.9639 - loss: 0.1020 - val_accuracy: 0.9592 - val_loss: 0.1096\n",
      "Epoch 51/100\n",
      "\u001b[1m148/150\u001b[0m \u001b[32m━━━━━━━━━━━━━━━━━━━\u001b[0m\u001b[37m━\u001b[0m \u001b[1m0s\u001b[0m 18ms/step - accuracy: 0.9550 - loss: 0.1266\n",
      "Epoch 51: val_accuracy did not improve from 0.97417\n",
      "\u001b[1m150/150\u001b[0m \u001b[32m━━━━━━━━━━━━━━━━━━━━\u001b[0m\u001b[37m\u001b[0m \u001b[1m3s\u001b[0m 20ms/step - accuracy: 0.9550 - loss: 0.1267 - val_accuracy: 0.9583 - val_loss: 0.1117\n",
      "Epoch 52/100\n",
      "\u001b[1m148/150\u001b[0m \u001b[32m━━━━━━━━━━━━━━━━━━━\u001b[0m\u001b[37m━\u001b[0m \u001b[1m0s\u001b[0m 18ms/step - accuracy: 0.9565 - loss: 0.1191\n",
      "Epoch 52: val_accuracy did not improve from 0.97417\n",
      "\u001b[1m150/150\u001b[0m \u001b[32m━━━━━━━━━━━━━━━━━━━━\u001b[0m\u001b[37m\u001b[0m \u001b[1m3s\u001b[0m 19ms/step - accuracy: 0.9566 - loss: 0.1189 - val_accuracy: 0.9642 - val_loss: 0.0995\n",
      "Epoch 53/100\n",
      "\u001b[1m148/150\u001b[0m \u001b[32m━━━━━━━━━━━━━━━━━━━\u001b[0m\u001b[37m━\u001b[0m \u001b[1m0s\u001b[0m 18ms/step - accuracy: 0.9632 - loss: 0.1128\n",
      "Epoch 53: val_accuracy did not improve from 0.97417\n",
      "\u001b[1m150/150\u001b[0m \u001b[32m━━━━━━━━━━━━━━━━━━━━\u001b[0m\u001b[37m\u001b[0m \u001b[1m3s\u001b[0m 20ms/step - accuracy: 0.9631 - loss: 0.1126 - val_accuracy: 0.9708 - val_loss: 0.0783\n",
      "Epoch 54/100\n",
      "\u001b[1m148/150\u001b[0m \u001b[32m━━━━━━━━━━━━━━━━━━━\u001b[0m\u001b[37m━\u001b[0m \u001b[1m0s\u001b[0m 18ms/step - accuracy: 0.9650 - loss: 0.1021\n",
      "Epoch 54: val_accuracy did not improve from 0.97417\n",
      "\u001b[1m150/150\u001b[0m \u001b[32m━━━━━━━━━━━━━━━━━━━━\u001b[0m\u001b[37m\u001b[0m \u001b[1m3s\u001b[0m 19ms/step - accuracy: 0.9649 - loss: 0.1022 - val_accuracy: 0.9150 - val_loss: 0.2216\n",
      "Epoch 55/100\n",
      "\u001b[1m148/150\u001b[0m \u001b[32m━━━━━━━━━━━━━━━━━━━\u001b[0m\u001b[37m━\u001b[0m \u001b[1m0s\u001b[0m 18ms/step - accuracy: 0.9688 - loss: 0.1012\n",
      "Epoch 55: val_accuracy did not improve from 0.97417\n",
      "\u001b[1m150/150\u001b[0m \u001b[32m━━━━━━━━━━━━━━━━━━━━\u001b[0m\u001b[37m\u001b[0m \u001b[1m3s\u001b[0m 20ms/step - accuracy: 0.9687 - loss: 0.1012 - val_accuracy: 0.9717 - val_loss: 0.0876\n",
      "Epoch 56/100\n",
      "\u001b[1m148/150\u001b[0m \u001b[32m━━━━━━━━━━━━━━━━━━━\u001b[0m\u001b[37m━\u001b[0m \u001b[1m0s\u001b[0m 18ms/step - accuracy: 0.9514 - loss: 0.1317\n",
      "Epoch 56: val_accuracy did not improve from 0.97417\n",
      "\u001b[1m150/150\u001b[0m \u001b[32m━━━━━━━━━━━━━━━━━━━━\u001b[0m\u001b[37m\u001b[0m \u001b[1m3s\u001b[0m 20ms/step - accuracy: 0.9516 - loss: 0.1314 - val_accuracy: 0.9742 - val_loss: 0.0766\n",
      "Epoch 57/100\n",
      "\u001b[1m148/150\u001b[0m \u001b[32m━━━━━━━━━━━━━━━━━━━\u001b[0m\u001b[37m━\u001b[0m \u001b[1m0s\u001b[0m 18ms/step - accuracy: 0.9638 - loss: 0.1082\n",
      "Epoch 57: val_accuracy did not improve from 0.97417\n",
      "\u001b[1m150/150\u001b[0m \u001b[32m━━━━━━━━━━━━━━━━━━━━\u001b[0m\u001b[37m\u001b[0m \u001b[1m3s\u001b[0m 20ms/step - accuracy: 0.9636 - loss: 0.1085 - val_accuracy: 0.9408 - val_loss: 0.1554\n",
      "Epoch 58/100\n",
      "\u001b[1m148/150\u001b[0m \u001b[32m━━━━━━━━━━━━━━━━━━━\u001b[0m\u001b[37m━\u001b[0m \u001b[1m0s\u001b[0m 18ms/step - accuracy: 0.9589 - loss: 0.1134\n",
      "Epoch 58: val_accuracy improved from 0.97417 to 0.97833, saving model to /kaggle/working/deepfake.keras\n",
      "\u001b[1m150/150\u001b[0m \u001b[32m━━━━━━━━━━━━━━━━━━━━\u001b[0m\u001b[37m\u001b[0m \u001b[1m3s\u001b[0m 20ms/step - accuracy: 0.9589 - loss: 0.1135 - val_accuracy: 0.9783 - val_loss: 0.0645\n",
      "Epoch 59/100\n",
      "\u001b[1m148/150\u001b[0m \u001b[32m━━━━━━━━━━━━━━━━━━━\u001b[0m\u001b[37m━\u001b[0m \u001b[1m0s\u001b[0m 18ms/step - accuracy: 0.9645 - loss: 0.0998\n",
      "Epoch 59: val_accuracy did not improve from 0.97833\n",
      "\u001b[1m150/150\u001b[0m \u001b[32m━━━━━━━━━━━━━━━━━━━━\u001b[0m\u001b[37m\u001b[0m \u001b[1m3s\u001b[0m 20ms/step - accuracy: 0.9644 - loss: 0.1000 - val_accuracy: 0.9758 - val_loss: 0.0658\n",
      "Epoch 60/100\n",
      "\u001b[1m148/150\u001b[0m \u001b[32m━━━━━━━━━━━━━━━━━━━\u001b[0m\u001b[37m━\u001b[0m \u001b[1m0s\u001b[0m 18ms/step - accuracy: 0.9734 - loss: 0.0889\n",
      "Epoch 60: val_accuracy did not improve from 0.97833\n",
      "\u001b[1m150/150\u001b[0m \u001b[32m━━━━━━━━━━━━━━━━━━━━\u001b[0m\u001b[37m\u001b[0m \u001b[1m3s\u001b[0m 20ms/step - accuracy: 0.9733 - loss: 0.0890 - val_accuracy: 0.9775 - val_loss: 0.0653\n",
      "Epoch 61/100\n",
      "\u001b[1m148/150\u001b[0m \u001b[32m━━━━━━━━━━━━━━━━━━━\u001b[0m\u001b[37m━\u001b[0m \u001b[1m0s\u001b[0m 18ms/step - accuracy: 0.9709 - loss: 0.0843\n",
      "Epoch 61: val_accuracy did not improve from 0.97833\n",
      "\u001b[1m150/150\u001b[0m \u001b[32m━━━━━━━━━━━━━━━━━━━━\u001b[0m\u001b[37m\u001b[0m \u001b[1m3s\u001b[0m 20ms/step - accuracy: 0.9709 - loss: 0.0843 - val_accuracy: 0.9692 - val_loss: 0.0953\n",
      "Epoch 62/100\n",
      "\u001b[1m148/150\u001b[0m \u001b[32m━━━━━━━━━━━━━━━━━━━\u001b[0m\u001b[37m━\u001b[0m \u001b[1m0s\u001b[0m 18ms/step - accuracy: 0.9755 - loss: 0.0802\n",
      "Epoch 62: val_accuracy did not improve from 0.97833\n",
      "\u001b[1m150/150\u001b[0m \u001b[32m━━━━━━━━━━━━━━━━━━━━\u001b[0m\u001b[37m\u001b[0m \u001b[1m3s\u001b[0m 20ms/step - accuracy: 0.9754 - loss: 0.0801 - val_accuracy: 0.9542 - val_loss: 0.1169\n",
      "Epoch 63/100\n",
      "\u001b[1m148/150\u001b[0m \u001b[32m━━━━━━━━━━━━━━━━━━━\u001b[0m\u001b[37m━\u001b[0m \u001b[1m0s\u001b[0m 18ms/step - accuracy: 0.9704 - loss: 0.0899\n",
      "Epoch 63: val_accuracy improved from 0.97833 to 0.97917, saving model to /kaggle/working/deepfake.keras\n",
      "\u001b[1m150/150\u001b[0m \u001b[32m━━━━━━━━━━━━━━━━━━━━\u001b[0m\u001b[37m\u001b[0m \u001b[1m3s\u001b[0m 20ms/step - accuracy: 0.9705 - loss: 0.0897 - val_accuracy: 0.9792 - val_loss: 0.0573\n",
      "Epoch 64/100\n",
      "\u001b[1m148/150\u001b[0m \u001b[32m━━━━━━━━━━━━━━━━━━━\u001b[0m\u001b[37m━\u001b[0m \u001b[1m0s\u001b[0m 18ms/step - accuracy: 0.9763 - loss: 0.0737\n",
      "Epoch 64: val_accuracy did not improve from 0.97917\n",
      "\u001b[1m150/150\u001b[0m \u001b[32m━━━━━━━━━━━━━━━━━━━━\u001b[0m\u001b[37m\u001b[0m \u001b[1m3s\u001b[0m 20ms/step - accuracy: 0.9761 - loss: 0.0740 - val_accuracy: 0.9783 - val_loss: 0.0566\n",
      "Epoch 65/100\n",
      "\u001b[1m148/150\u001b[0m \u001b[32m━━━━━━━━━━━━━━━━━━━\u001b[0m\u001b[37m━\u001b[0m \u001b[1m0s\u001b[0m 18ms/step - accuracy: 0.9681 - loss: 0.0893\n",
      "Epoch 65: val_accuracy did not improve from 0.97917\n",
      "\u001b[1m150/150\u001b[0m \u001b[32m━━━━━━━━━━━━━━━━━━━━\u001b[0m\u001b[37m\u001b[0m \u001b[1m3s\u001b[0m 20ms/step - accuracy: 0.9681 - loss: 0.0894 - val_accuracy: 0.9358 - val_loss: 0.1641\n",
      "Epoch 66/100\n",
      "\u001b[1m148/150\u001b[0m \u001b[32m━━━━━━━━━━━━━━━━━━━\u001b[0m\u001b[37m━\u001b[0m \u001b[1m0s\u001b[0m 18ms/step - accuracy: 0.9646 - loss: 0.0953\n",
      "Epoch 66: val_accuracy did not improve from 0.97917\n",
      "\u001b[1m150/150\u001b[0m \u001b[32m━━━━━━━━━━━━━━━━━━━━\u001b[0m\u001b[37m\u001b[0m \u001b[1m3s\u001b[0m 20ms/step - accuracy: 0.9646 - loss: 0.0952 - val_accuracy: 0.9650 - val_loss: 0.1026\n",
      "Epoch 67/100\n",
      "\u001b[1m148/150\u001b[0m \u001b[32m━━━━━━━━━━━━━━━━━━━\u001b[0m\u001b[37m━\u001b[0m \u001b[1m0s\u001b[0m 18ms/step - accuracy: 0.9695 - loss: 0.0842\n",
      "Epoch 67: val_accuracy did not improve from 0.97917\n",
      "\u001b[1m150/150\u001b[0m \u001b[32m━━━━━━━━━━━━━━━━━━━━\u001b[0m\u001b[37m\u001b[0m \u001b[1m3s\u001b[0m 20ms/step - accuracy: 0.9696 - loss: 0.0841 - val_accuracy: 0.9783 - val_loss: 0.0682\n",
      "Epoch 68/100\n",
      "\u001b[1m148/150\u001b[0m \u001b[32m━━━━━━━━━━━━━━━━━━━\u001b[0m\u001b[37m━\u001b[0m \u001b[1m0s\u001b[0m 18ms/step - accuracy: 0.9553 - loss: 0.1153\n",
      "Epoch 68: val_accuracy improved from 0.97917 to 0.98167, saving model to /kaggle/working/deepfake.keras\n",
      "\u001b[1m150/150\u001b[0m \u001b[32m━━━━━━━━━━━━━━━━━━━━\u001b[0m\u001b[37m\u001b[0m \u001b[1m3s\u001b[0m 20ms/step - accuracy: 0.9555 - loss: 0.1148 - val_accuracy: 0.9817 - val_loss: 0.0584\n",
      "Epoch 69/100\n",
      "\u001b[1m148/150\u001b[0m \u001b[32m━━━━━━━━━━━━━━━━━━━\u001b[0m\u001b[37m━\u001b[0m \u001b[1m0s\u001b[0m 18ms/step - accuracy: 0.9784 - loss: 0.0670\n",
      "Epoch 69: val_accuracy did not improve from 0.98167\n",
      "\u001b[1m150/150\u001b[0m \u001b[32m━━━━━━━━━━━━━━━━━━━━\u001b[0m\u001b[37m\u001b[0m \u001b[1m3s\u001b[0m 20ms/step - accuracy: 0.9783 - loss: 0.0671 - val_accuracy: 0.9692 - val_loss: 0.0923\n",
      "Epoch 70/100\n",
      "\u001b[1m148/150\u001b[0m \u001b[32m━━━━━━━━━━━━━━━━━━━\u001b[0m\u001b[37m━\u001b[0m \u001b[1m0s\u001b[0m 18ms/step - accuracy: 0.9788 - loss: 0.0719\n",
      "Epoch 70: val_accuracy improved from 0.98167 to 0.98417, saving model to /kaggle/working/deepfake.keras\n",
      "\u001b[1m150/150\u001b[0m \u001b[32m━━━━━━━━━━━━━━━━━━━━\u001b[0m\u001b[37m\u001b[0m \u001b[1m3s\u001b[0m 20ms/step - accuracy: 0.9788 - loss: 0.0718 - val_accuracy: 0.9842 - val_loss: 0.0513\n",
      "Epoch 71/100\n",
      "\u001b[1m148/150\u001b[0m \u001b[32m━━━━━━━━━━━━━━━━━━━\u001b[0m\u001b[37m━\u001b[0m \u001b[1m0s\u001b[0m 18ms/step - accuracy: 0.9759 - loss: 0.0775\n",
      "Epoch 71: val_accuracy did not improve from 0.98417\n",
      "\u001b[1m150/150\u001b[0m \u001b[32m━━━━━━━━━━━━━━━━━━━━\u001b[0m\u001b[37m\u001b[0m \u001b[1m3s\u001b[0m 20ms/step - accuracy: 0.9759 - loss: 0.0774 - val_accuracy: 0.9808 - val_loss: 0.0565\n",
      "Epoch 72/100\n",
      "\u001b[1m148/150\u001b[0m \u001b[32m━━━━━━━━━━━━━━━━━━━\u001b[0m\u001b[37m━\u001b[0m \u001b[1m0s\u001b[0m 18ms/step - accuracy: 0.9774 - loss: 0.0683\n",
      "Epoch 72: val_accuracy did not improve from 0.98417\n",
      "\u001b[1m150/150\u001b[0m \u001b[32m━━━━━━━━━━━━━━━━━━━━\u001b[0m\u001b[37m\u001b[0m \u001b[1m3s\u001b[0m 20ms/step - accuracy: 0.9773 - loss: 0.0684 - val_accuracy: 0.9642 - val_loss: 0.1059\n",
      "Epoch 73/100\n",
      "\u001b[1m148/150\u001b[0m \u001b[32m━━━━━━━━━━━━━━━━━━━\u001b[0m\u001b[37m━\u001b[0m \u001b[1m0s\u001b[0m 18ms/step - accuracy: 0.9489 - loss: 0.1315\n",
      "Epoch 73: val_accuracy did not improve from 0.98417\n",
      "\u001b[1m150/150\u001b[0m \u001b[32m━━━━━━━━━━━━━━━━━━━━\u001b[0m\u001b[37m\u001b[0m \u001b[1m3s\u001b[0m 20ms/step - accuracy: 0.9492 - loss: 0.1309 - val_accuracy: 0.9642 - val_loss: 0.0912\n",
      "Epoch 74/100\n",
      "\u001b[1m148/150\u001b[0m \u001b[32m━━━━━━━━━━━━━━━━━━━\u001b[0m\u001b[37m━\u001b[0m \u001b[1m0s\u001b[0m 18ms/step - accuracy: 0.9796 - loss: 0.0632\n",
      "Epoch 74: val_accuracy did not improve from 0.98417\n",
      "\u001b[1m150/150\u001b[0m \u001b[32m━━━━━━━━━━━━━━━━━━━━\u001b[0m\u001b[37m\u001b[0m \u001b[1m3s\u001b[0m 19ms/step - accuracy: 0.9795 - loss: 0.0633 - val_accuracy: 0.9842 - val_loss: 0.0479\n",
      "Epoch 75/100\n",
      "\u001b[1m148/150\u001b[0m \u001b[32m━━━━━━━━━━━━━━━━━━━\u001b[0m\u001b[37m━\u001b[0m \u001b[1m0s\u001b[0m 18ms/step - accuracy: 0.9829 - loss: 0.0566\n",
      "Epoch 75: val_accuracy did not improve from 0.98417\n",
      "\u001b[1m150/150\u001b[0m \u001b[32m━━━━━━━━━━━━━━━━━━━━\u001b[0m\u001b[37m\u001b[0m \u001b[1m3s\u001b[0m 20ms/step - accuracy: 0.9828 - loss: 0.0569 - val_accuracy: 0.9825 - val_loss: 0.0536\n",
      "Epoch 76/100\n",
      "\u001b[1m148/150\u001b[0m \u001b[32m━━━━━━━━━━━━━━━━━━━\u001b[0m\u001b[37m━\u001b[0m \u001b[1m0s\u001b[0m 18ms/step - accuracy: 0.9625 - loss: 0.1002\n",
      "Epoch 76: val_accuracy did not improve from 0.98417\n",
      "\u001b[1m150/150\u001b[0m \u001b[32m━━━━━━━━━━━━━━━━━━━━\u001b[0m\u001b[37m\u001b[0m \u001b[1m3s\u001b[0m 19ms/step - accuracy: 0.9626 - loss: 0.1000 - val_accuracy: 0.9683 - val_loss: 0.0916\n",
      "Epoch 77/100\n",
      "\u001b[1m148/150\u001b[0m \u001b[32m━━━━━━━━━━━━━━━━━━━\u001b[0m\u001b[37m━\u001b[0m \u001b[1m0s\u001b[0m 18ms/step - accuracy: 0.9751 - loss: 0.0815\n",
      "Epoch 77: val_accuracy did not improve from 0.98417\n",
      "\u001b[1m150/150\u001b[0m \u001b[32m━━━━━━━━━━━━━━━━━━━━\u001b[0m\u001b[37m\u001b[0m \u001b[1m3s\u001b[0m 20ms/step - accuracy: 0.9752 - loss: 0.0813 - val_accuracy: 0.9575 - val_loss: 0.1058\n",
      "Epoch 78/100\n",
      "\u001b[1m148/150\u001b[0m \u001b[32m━━━━━━━━━━━━━━━━━━━\u001b[0m\u001b[37m━\u001b[0m \u001b[1m0s\u001b[0m 18ms/step - accuracy: 0.9767 - loss: 0.0676\n",
      "Epoch 78: val_accuracy did not improve from 0.98417\n",
      "\u001b[1m150/150\u001b[0m \u001b[32m━━━━━━━━━━━━━━━━━━━━\u001b[0m\u001b[37m\u001b[0m \u001b[1m3s\u001b[0m 20ms/step - accuracy: 0.9767 - loss: 0.0678 - val_accuracy: 0.9758 - val_loss: 0.0684\n",
      "Epoch 79/100\n",
      "\u001b[1m148/150\u001b[0m \u001b[32m━━━━━━━━━━━━━━━━━━━\u001b[0m\u001b[37m━\u001b[0m \u001b[1m0s\u001b[0m 18ms/step - accuracy: 0.9698 - loss: 0.0877\n",
      "Epoch 79: val_accuracy improved from 0.98417 to 0.98667, saving model to /kaggle/working/deepfake.keras\n",
      "\u001b[1m150/150\u001b[0m \u001b[32m━━━━━━━━━━━━━━━━━━━━\u001b[0m\u001b[37m\u001b[0m \u001b[1m3s\u001b[0m 20ms/step - accuracy: 0.9699 - loss: 0.0875 - val_accuracy: 0.9867 - val_loss: 0.0420\n",
      "Epoch 80/100\n",
      "\u001b[1m148/150\u001b[0m \u001b[32m━━━━━━━━━━━━━━━━━━━\u001b[0m\u001b[37m━\u001b[0m \u001b[1m0s\u001b[0m 18ms/step - accuracy: 0.9786 - loss: 0.0609\n",
      "Epoch 80: val_accuracy did not improve from 0.98667\n",
      "\u001b[1m150/150\u001b[0m \u001b[32m━━━━━━━━━━━━━━━━━━━━\u001b[0m\u001b[37m\u001b[0m \u001b[1m3s\u001b[0m 20ms/step - accuracy: 0.9784 - loss: 0.0613 - val_accuracy: 0.9750 - val_loss: 0.0714\n",
      "Epoch 81/100\n",
      "\u001b[1m148/150\u001b[0m \u001b[32m━━━━━━━━━━━━━━━━━━━\u001b[0m\u001b[37m━\u001b[0m \u001b[1m0s\u001b[0m 18ms/step - accuracy: 0.9813 - loss: 0.0517\n",
      "Epoch 81: val_accuracy did not improve from 0.98667\n",
      "\u001b[1m150/150\u001b[0m \u001b[32m━━━━━━━━━━━━━━━━━━━━\u001b[0m\u001b[37m\u001b[0m \u001b[1m3s\u001b[0m 20ms/step - accuracy: 0.9813 - loss: 0.0518 - val_accuracy: 0.9783 - val_loss: 0.0560\n",
      "Epoch 82/100\n",
      "\u001b[1m148/150\u001b[0m \u001b[32m━━━━━━━━━━━━━━━━━━━\u001b[0m\u001b[37m━\u001b[0m \u001b[1m0s\u001b[0m 18ms/step - accuracy: 0.9865 - loss: 0.0476\n",
      "Epoch 82: val_accuracy did not improve from 0.98667\n",
      "\u001b[1m150/150\u001b[0m \u001b[32m━━━━━━━━━━━━━━━━━━━━\u001b[0m\u001b[37m\u001b[0m \u001b[1m3s\u001b[0m 20ms/step - accuracy: 0.9865 - loss: 0.0476 - val_accuracy: 0.9525 - val_loss: 0.1178\n",
      "Epoch 83/100\n",
      "\u001b[1m148/150\u001b[0m \u001b[32m━━━━━━━━━━━━━━━━━━━\u001b[0m\u001b[37m━\u001b[0m \u001b[1m0s\u001b[0m 18ms/step - accuracy: 0.9792 - loss: 0.0628\n",
      "Epoch 83: val_accuracy improved from 0.98667 to 0.98833, saving model to /kaggle/working/deepfake.keras\n",
      "\u001b[1m150/150\u001b[0m \u001b[32m━━━━━━━━━━━━━━━━━━━━\u001b[0m\u001b[37m\u001b[0m \u001b[1m3s\u001b[0m 20ms/step - accuracy: 0.9792 - loss: 0.0628 - val_accuracy: 0.9883 - val_loss: 0.0386\n",
      "Epoch 84/100\n",
      "\u001b[1m148/150\u001b[0m \u001b[32m━━━━━━━━━━━━━━━━━━━\u001b[0m\u001b[37m━\u001b[0m \u001b[1m0s\u001b[0m 18ms/step - accuracy: 0.9775 - loss: 0.0633\n",
      "Epoch 84: val_accuracy did not improve from 0.98833\n",
      "\u001b[1m150/150\u001b[0m \u001b[32m━━━━━━━━━━━━━━━━━━━━\u001b[0m\u001b[37m\u001b[0m \u001b[1m3s\u001b[0m 20ms/step - accuracy: 0.9774 - loss: 0.0636 - val_accuracy: 0.9775 - val_loss: 0.0598\n",
      "Epoch 85/100\n",
      "\u001b[1m148/150\u001b[0m \u001b[32m━━━━━━━━━━━━━━━━━━━\u001b[0m\u001b[37m━\u001b[0m \u001b[1m0s\u001b[0m 18ms/step - accuracy: 0.9807 - loss: 0.0657\n",
      "Epoch 85: val_accuracy did not improve from 0.98833\n",
      "\u001b[1m150/150\u001b[0m \u001b[32m━━━━━━━━━━━━━━━━━━━━\u001b[0m\u001b[37m\u001b[0m \u001b[1m3s\u001b[0m 19ms/step - accuracy: 0.9808 - loss: 0.0655 - val_accuracy: 0.9767 - val_loss: 0.0630\n",
      "Epoch 86/100\n",
      "\u001b[1m148/150\u001b[0m \u001b[32m━━━━━━━━━━━━━━━━━━━\u001b[0m\u001b[37m━\u001b[0m \u001b[1m0s\u001b[0m 18ms/step - accuracy: 0.9812 - loss: 0.0592\n",
      "Epoch 86: val_accuracy improved from 0.98833 to 0.98917, saving model to /kaggle/working/deepfake.keras\n",
      "\u001b[1m150/150\u001b[0m \u001b[32m━━━━━━━━━━━━━━━━━━━━\u001b[0m\u001b[37m\u001b[0m \u001b[1m3s\u001b[0m 20ms/step - accuracy: 0.9811 - loss: 0.0596 - val_accuracy: 0.9892 - val_loss: 0.0364\n",
      "Epoch 87/100\n",
      "\u001b[1m148/150\u001b[0m \u001b[32m━━━━━━━━━━━━━━━━━━━\u001b[0m\u001b[37m━\u001b[0m \u001b[1m0s\u001b[0m 18ms/step - accuracy: 0.9853 - loss: 0.0492\n",
      "Epoch 87: val_accuracy did not improve from 0.98917\n",
      "\u001b[1m150/150\u001b[0m \u001b[32m━━━━━━━━━━━━━━━━━━━━\u001b[0m\u001b[37m\u001b[0m \u001b[1m3s\u001b[0m 20ms/step - accuracy: 0.9852 - loss: 0.0493 - val_accuracy: 0.9300 - val_loss: 0.1881\n",
      "Epoch 88/100\n",
      "\u001b[1m148/150\u001b[0m \u001b[32m━━━━━━━━━━━━━━━━━━━\u001b[0m\u001b[37m━\u001b[0m \u001b[1m0s\u001b[0m 18ms/step - accuracy: 0.9768 - loss: 0.0700\n",
      "Epoch 88: val_accuracy did not improve from 0.98917\n",
      "\u001b[1m150/150\u001b[0m \u001b[32m━━━━━━━━━━━━━━━━━━━━\u001b[0m\u001b[37m\u001b[0m \u001b[1m3s\u001b[0m 20ms/step - accuracy: 0.9768 - loss: 0.0703 - val_accuracy: 0.9675 - val_loss: 0.0981\n",
      "Epoch 89/100\n",
      "\u001b[1m148/150\u001b[0m \u001b[32m━━━━━━━━━━━━━━━━━━━\u001b[0m\u001b[37m━\u001b[0m \u001b[1m0s\u001b[0m 18ms/step - accuracy: 0.9805 - loss: 0.0540\n",
      "Epoch 89: val_accuracy did not improve from 0.98917\n",
      "\u001b[1m150/150\u001b[0m \u001b[32m━━━━━━━━━━━━━━━━━━━━\u001b[0m\u001b[37m\u001b[0m \u001b[1m3s\u001b[0m 20ms/step - accuracy: 0.9805 - loss: 0.0540 - val_accuracy: 0.9767 - val_loss: 0.0608\n",
      "Epoch 90/100\n",
      "\u001b[1m148/150\u001b[0m \u001b[32m━━━━━━━━━━━━━━━━━━━\u001b[0m\u001b[37m━\u001b[0m \u001b[1m0s\u001b[0m 18ms/step - accuracy: 0.9835 - loss: 0.0490\n",
      "Epoch 90: val_accuracy did not improve from 0.98917\n",
      "\u001b[1m150/150\u001b[0m \u001b[32m━━━━━━━━━━━━━━━━━━━━\u001b[0m\u001b[37m\u001b[0m \u001b[1m3s\u001b[0m 19ms/step - accuracy: 0.9835 - loss: 0.0491 - val_accuracy: 0.9883 - val_loss: 0.0341\n",
      "Epoch 91/100\n",
      "\u001b[1m148/150\u001b[0m \u001b[32m━━━━━━━━━━━━━━━━━━━\u001b[0m\u001b[37m━\u001b[0m \u001b[1m0s\u001b[0m 18ms/step - accuracy: 0.9816 - loss: 0.0576\n",
      "Epoch 91: val_accuracy did not improve from 0.98917\n",
      "\u001b[1m150/150\u001b[0m \u001b[32m━━━━━━━━━━━━━━━━━━━━\u001b[0m\u001b[37m\u001b[0m \u001b[1m3s\u001b[0m 19ms/step - accuracy: 0.9816 - loss: 0.0576 - val_accuracy: 0.9808 - val_loss: 0.0502\n",
      "Epoch 92/100\n",
      "\u001b[1m148/150\u001b[0m \u001b[32m━━━━━━━━━━━━━━━━━━━\u001b[0m\u001b[37m━\u001b[0m \u001b[1m0s\u001b[0m 18ms/step - accuracy: 0.9723 - loss: 0.0741\n",
      "Epoch 92: val_accuracy did not improve from 0.98917\n",
      "\u001b[1m150/150\u001b[0m \u001b[32m━━━━━━━━━━━━━━━━━━━━\u001b[0m\u001b[37m\u001b[0m \u001b[1m3s\u001b[0m 20ms/step - accuracy: 0.9724 - loss: 0.0740 - val_accuracy: 0.9800 - val_loss: 0.0428\n",
      "Epoch 93/100\n",
      "\u001b[1m148/150\u001b[0m \u001b[32m━━━━━━━━━━━━━━━━━━━\u001b[0m\u001b[37m━\u001b[0m \u001b[1m0s\u001b[0m 18ms/step - accuracy: 0.9782 - loss: 0.0589\n",
      "Epoch 93: val_accuracy did not improve from 0.98917\n",
      "\u001b[1m150/150\u001b[0m \u001b[32m━━━━━━━━━━━━━━━━━━━━\u001b[0m\u001b[37m\u001b[0m \u001b[1m3s\u001b[0m 20ms/step - accuracy: 0.9782 - loss: 0.0589 - val_accuracy: 0.9858 - val_loss: 0.0348\n",
      "Epoch 94/100\n",
      "\u001b[1m148/150\u001b[0m \u001b[32m━━━━━━━━━━━━━━━━━━━\u001b[0m\u001b[37m━\u001b[0m \u001b[1m0s\u001b[0m 18ms/step - accuracy: 0.9804 - loss: 0.0589\n",
      "Epoch 94: val_accuracy did not improve from 0.98917\n",
      "\u001b[1m150/150\u001b[0m \u001b[32m━━━━━━━━━━━━━━━━━━━━\u001b[0m\u001b[37m\u001b[0m \u001b[1m3s\u001b[0m 20ms/step - accuracy: 0.9804 - loss: 0.0590 - val_accuracy: 0.9683 - val_loss: 0.0873\n",
      "Epoch 95/100\n",
      "\u001b[1m148/150\u001b[0m \u001b[32m━━━━━━━━━━━━━━━━━━━\u001b[0m\u001b[37m━\u001b[0m \u001b[1m0s\u001b[0m 18ms/step - accuracy: 0.9843 - loss: 0.0468\n",
      "Epoch 95: val_accuracy did not improve from 0.98917\n",
      "\u001b[1m150/150\u001b[0m \u001b[32m━━━━━━━━━━━━━━━━━━━━\u001b[0m\u001b[37m\u001b[0m \u001b[1m3s\u001b[0m 20ms/step - accuracy: 0.9843 - loss: 0.0470 - val_accuracy: 0.9867 - val_loss: 0.0353\n",
      "Epoch 96/100\n",
      "\u001b[1m148/150\u001b[0m \u001b[32m━━━━━━━━━━━━━━━━━━━\u001b[0m\u001b[37m━\u001b[0m \u001b[1m0s\u001b[0m 18ms/step - accuracy: 0.9790 - loss: 0.0525\n",
      "Epoch 96: val_accuracy did not improve from 0.98917\n",
      "\u001b[1m150/150\u001b[0m \u001b[32m━━━━━━━━━━━━━━━━━━━━\u001b[0m\u001b[37m\u001b[0m \u001b[1m3s\u001b[0m 20ms/step - accuracy: 0.9791 - loss: 0.0524 - val_accuracy: 0.9642 - val_loss: 0.1084\n",
      "Epoch 97/100\n",
      "\u001b[1m148/150\u001b[0m \u001b[32m━━━━━━━━━━━━━━━━━━━\u001b[0m\u001b[37m━\u001b[0m \u001b[1m0s\u001b[0m 18ms/step - accuracy: 0.9810 - loss: 0.0504\n",
      "Epoch 97: val_accuracy improved from 0.98917 to 0.99000, saving model to /kaggle/working/deepfake.keras\n",
      "\u001b[1m150/150\u001b[0m \u001b[32m━━━━━━━━━━━━━━━━━━━━\u001b[0m\u001b[37m\u001b[0m \u001b[1m3s\u001b[0m 20ms/step - accuracy: 0.9809 - loss: 0.0505 - val_accuracy: 0.9900 - val_loss: 0.0323\n",
      "Epoch 98/100\n",
      "\u001b[1m148/150\u001b[0m \u001b[32m━━━━━━━━━━━━━━━━━━━\u001b[0m\u001b[37m━\u001b[0m \u001b[1m0s\u001b[0m 18ms/step - accuracy: 0.9832 - loss: 0.0478\n",
      "Epoch 98: val_accuracy did not improve from 0.99000\n",
      "\u001b[1m150/150\u001b[0m \u001b[32m━━━━━━━━━━━━━━━━━━━━\u001b[0m\u001b[37m\u001b[0m \u001b[1m3s\u001b[0m 20ms/step - accuracy: 0.9832 - loss: 0.0478 - val_accuracy: 0.9767 - val_loss: 0.0557\n",
      "Epoch 99/100\n",
      "\u001b[1m148/150\u001b[0m \u001b[32m━━━━━━━━━━━━━━━━━━━\u001b[0m\u001b[37m━\u001b[0m \u001b[1m0s\u001b[0m 18ms/step - accuracy: 0.9573 - loss: 0.1243\n",
      "Epoch 99: val_accuracy did not improve from 0.99000\n",
      "\u001b[1m150/150\u001b[0m \u001b[32m━━━━━━━━━━━━━━━━━━━━\u001b[0m\u001b[37m\u001b[0m \u001b[1m3s\u001b[0m 19ms/step - accuracy: 0.9576 - loss: 0.1234 - val_accuracy: 0.9900 - val_loss: 0.0302\n",
      "Epoch 100/100\n",
      "\u001b[1m148/150\u001b[0m \u001b[32m━━━━━━━━━━━━━━━━━━━\u001b[0m\u001b[37m━\u001b[0m \u001b[1m0s\u001b[0m 18ms/step - accuracy: 0.9895 - loss: 0.0404\n",
      "Epoch 100: val_accuracy did not improve from 0.99000\n",
      "\u001b[1m150/150\u001b[0m \u001b[32m━━━━━━━━━━━━━━━━━━━━\u001b[0m\u001b[37m\u001b[0m \u001b[1m3s\u001b[0m 20ms/step - accuracy: 0.9895 - loss: 0.0403 - val_accuracy: 0.9867 - val_loss: 0.0317\n"
     ]
    }
   ],
   "source": [
    "# es = EarlyStopping(monitor='val_loss', min_delta=0, patience=2, verbose=1, mode='auto')\n",
    "checkpoint_callback = ModelCheckpoint(filepath='/kaggle/working/deepfake.keras', monitor='val_accuracy', save_best_only=True, verbose=1)\n",
    "\n",
    "\n",
    "train_logs = model.fit(X_train, Y_train, batch_size=32, epochs=100, \n",
    "                    validation_data = (X_val, Y_val), verbose = 1, callbacks=[checkpoint_callback])"
   ]
  },
  {
   "cell_type": "code",
   "execution_count": 10,
   "id": "b8a202f9",
   "metadata": {
    "execution": {
     "iopub.execute_input": "2024-05-03T04:35:49.776564Z",
     "iopub.status.busy": "2024-05-03T04:35:49.776211Z",
     "iopub.status.idle": "2024-05-03T04:35:50.005423Z",
     "shell.execute_reply": "2024-05-03T04:35:50.004499Z"
    },
    "papermill": {
     "duration": 0.664229,
     "end_time": "2024-05-03T04:35:50.007601",
     "exception": false,
     "start_time": "2024-05-03T04:35:49.343372",
     "status": "completed"
    },
    "tags": []
   },
   "outputs": [],
   "source": [
    "K.clear_session()"
   ]
  },
  {
   "cell_type": "markdown",
   "id": "c64cca27",
   "metadata": {
    "papermill": {
     "duration": 0.433863,
     "end_time": "2024-05-03T04:35:50.896413",
     "exception": false,
     "start_time": "2024-05-03T04:35:50.462550",
     "status": "completed"
    },
    "tags": []
   },
   "source": [
    "# Performance Analysis"
   ]
  },
  {
   "cell_type": "markdown",
   "id": "4a24669d",
   "metadata": {
    "papermill": {
     "duration": 0.488808,
     "end_time": "2024-05-03T04:35:51.819684",
     "exception": false,
     "start_time": "2024-05-03T04:35:51.330876",
     "status": "completed"
    },
    "tags": []
   },
   "source": [
    "## Training visualization"
   ]
  },
  {
   "cell_type": "code",
   "execution_count": 11,
   "id": "3cd44e25",
   "metadata": {
    "execution": {
     "iopub.execute_input": "2024-05-03T04:35:52.682584Z",
     "iopub.status.busy": "2024-05-03T04:35:52.681736Z",
     "iopub.status.idle": "2024-05-03T04:35:53.363273Z",
     "shell.execute_reply": "2024-05-03T04:35:53.362302Z"
    },
    "papermill": {
     "duration": 1.114199,
     "end_time": "2024-05-03T04:35:53.365512",
     "exception": false,
     "start_time": "2024-05-03T04:35:52.251313",
     "status": "completed"
    },
    "tags": []
   },
   "outputs": [
    {
     "data": {
      "image/png": "[encoded data removed]",
      "text/plain": [
       "<Figure size 1000x400 with 2 Axes>"
      ]
     },
     "metadata": {},
     "output_type": "display_data"
    }
   ],
   "source": [
    "# visualization\n",
    "import matplotlib.pyplot as plt\n",
    "import seaborn as sn\n",
    "\n",
    "\n",
    "fig, axs = plt.subplots(1, 2, figsize=(10, 4))\n",
    "\n",
    "axs[0].plot(train_logs.history['loss'], label='loss')\n",
    "axs[0].plot(train_logs.history['val_loss'], label='val_loss')\n",
    "axs[0].legend()\n",
    "axs[0].set_xlabel('Epochs')\n",
    "axs[0].set_ylabel('Score')\n",
    "axs[0].set_title('Loss Logs')\n",
    "\n",
    "axs[1].plot(train_logs.history['accuracy'], label='accuracy', linewidth=2)\n",
    "axs[1].plot(train_logs.history['val_accuracy'], label='val_accuracy', linewidth=2)\n",
    "axs[1].legend()\n",
    "axs[1].set_xlabel('Epochs')\n",
    "axs[1].set_ylabel('Score')\n",
    "axs[1].set_title('Accuracy Logs')\n",
    "\n",
    "plt.show()"
   ]
  },
  {
   "cell_type": "code",
   "execution_count": 12,
   "id": "0efcd6ac",
   "metadata": {
    "execution": {
     "iopub.execute_input": "2024-05-03T04:35:54.238515Z",
     "iopub.status.busy": "2024-05-03T04:35:54.238165Z",
     "iopub.status.idle": "2024-05-03T04:35:54.627300Z",
     "shell.execute_reply": "2024-05-03T04:35:54.626234Z"
    },
    "papermill": {
     "duration": 0.827274,
     "end_time": "2024-05-03T04:35:54.629876",
     "exception": false,
     "start_time": "2024-05-03T04:35:53.802602",
     "status": "completed"
    },
    "tags": []
   },
   "outputs": [],
   "source": [
    "best_model = load_model('/kaggle/working/deepfake.keras')"
   ]
  },
  {
   "cell_type": "markdown",
   "id": "b55b2fd1",
   "metadata": {
    "papermill": {
     "duration": 0.448386,
     "end_time": "2024-05-03T04:35:55.565381",
     "exception": false,
     "start_time": "2024-05-03T04:35:55.116995",
     "status": "completed"
    },
    "tags": []
   },
   "source": [
    "## Performance Metrics"
   ]
  },
  {
   "cell_type": "code",
   "execution_count": 13,
   "id": "6a3f70c0",
   "metadata": {
    "execution": {
     "iopub.execute_input": "2024-05-03T04:35:56.461738Z",
     "iopub.status.busy": "2024-05-03T04:35:56.461236Z",
     "iopub.status.idle": "2024-05-03T04:35:58.499500Z",
     "shell.execute_reply": "2024-05-03T04:35:58.495631Z"
    },
    "papermill": {
     "duration": 2.489109,
     "end_time": "2024-05-03T04:35:58.502775",
     "exception": false,
     "start_time": "2024-05-03T04:35:56.013666",
     "status": "completed"
    },
    "tags": []
   },
   "outputs": [
    {
     "name": "stdout",
     "output_type": "stream",
     "text": [
      "\u001b[1m38/38\u001b[0m \u001b[32m━━━━━━━━━━━━━━━━━━━━\u001b[0m\u001b[37m\u001b[0m \u001b[1m1s\u001b[0m 19ms/step\n",
      "Accuracy Score: 0.99\n",
      "Recall Score: 0.98851\n",
      "Precision Score: 0.99176\n",
      "\n",
      "True positive =  602\n",
      "False positive =  7\n",
      "False negative =  5\n",
      "True negative =  586\n",
      "\n",
      "\n"
     ]
    },
    {
     "data": {
      "image/png": "[encoded data removed]",
      "text/plain": [
       "<Figure size 400x400 with 1 Axes>"
      ]
     },
     "metadata": {},
     "output_type": "display_data"
    }
   ],
   "source": [
    "# checking metrics: Accuracy, Reacall, Precision\n",
    "from sklearn.metrics import precision_score, recall_score, accuracy_score, confusion_matrix\n",
    "pred = best_model.predict(X_val).round()\n",
    "\n",
    "predicted = [np.argmax(p) for p in pred]\n",
    "actual = [np.argmax(p) for p in Y_val]\n",
    "\n",
    "print(f\"Accuracy Score: {accuracy_score(predicted,actual).round(5)}\")\n",
    "print(f\"Recall Score: {recall_score(predicted,actual).round(5)}\")\n",
    "print(f\"Precision Score: {precision_score(predicted,actual).round(5)}\\n\")\n",
    "\n",
    "\n",
    "def print_confusion_matrix(y_true, y_pred):\n",
    "    cm=confusion_matrix(y_true,y_pred)\n",
    "    cm[0][0],cm[1][1]=cm[1][1],cm[0][0]\n",
    "    print('True positive = ', cm[0][0])\n",
    "    print('False positive = ', cm[0][1])\n",
    "    print('False negative = ', cm[1][0])\n",
    "    print('True negative = ', cm[1][1])\n",
    "    print('\\n')\n",
    "    cm=pd.DataFrame(cm,index=['True_predicted','False_predicted'],columns=['True_Actual','False_Actual'])\n",
    "\n",
    "    plt.subplots(figsize=(4,4))\n",
    "    sn.heatmap(cm,cmap='BuGn',annot=True, fmt='.0f',cbar=False)\n",
    "    plt.show()\n",
    "    \n",
    "print_confusion_matrix(actual,predicted)"
   ]
  },
  {
   "cell_type": "code",
   "execution_count": 14,
   "id": "4f2ce0a3",
   "metadata": {
    "execution": {
     "iopub.execute_input": "2024-05-03T04:35:59.439034Z",
     "iopub.status.busy": "2024-05-03T04:35:59.438165Z",
     "iopub.status.idle": "2024-05-03T04:35:59.737591Z",
     "shell.execute_reply": "2024-05-03T04:35:59.736508Z"
    },
    "papermill": {
     "duration": 0.784697,
     "end_time": "2024-05-03T04:35:59.739776",
     "exception": false,
     "start_time": "2024-05-03T04:35:58.955079",
     "status": "completed"
    },
    "tags": []
   },
   "outputs": [
    {
     "data": {
      "image/png": "[encoded data removed]",
      "text/plain": [
       "<Figure size 640x480 with 1 Axes>"
      ]
     },
     "metadata": {},
     "output_type": "display_data"
    }
   ],
   "source": [
    "# ROC curve\n",
    "from sklearn.metrics import roc_curve, auc\n",
    "\n",
    "\n",
    "def plot_roc(actual,predicted):\n",
    "    # Calculate the ROC curve\n",
    "    fpr,tpr,thresholds = roc_curve(actual,predicted)\n",
    "    # Calculate the area under the ROC curve (AUC)\n",
    "    roc_auc = auc(fpr, tpr)\n",
    "    # Plot the ROC curve\n",
    "    plt.figure()\n",
    "    plt.plot(fpr, tpr, color='darkorange', lw=2, label='ROC curve (area = %0.2f)' % roc_auc)\n",
    "    plt.plot([0, 1], [0, 1], color='navy', lw=2, linestyle='--')\n",
    "    plt.xlim([0.0, 1.0])\n",
    "    plt.ylim([0.0, 1.05])\n",
    "    plt.xlabel('False Positive Rate')\n",
    "    plt.ylabel('True Positive Rate')\n",
    "    plt.title('Receiver Operating Characteristic (ROC) Curve')\n",
    "    plt.legend(loc=\"lower right\")\n",
    "    plt.show()\n",
    "    \n",
    "\n",
    "plot_roc(actual,predicted)\n"
   ]
  },
  {
   "cell_type": "code",
   "execution_count": 15,
   "id": "5f8a32d9",
   "metadata": {
    "execution": {
     "iopub.execute_input": "2024-05-03T04:36:00.649320Z",
     "iopub.status.busy": "2024-05-03T04:36:00.648305Z",
     "iopub.status.idle": "2024-05-03T04:36:01.503955Z",
     "shell.execute_reply": "2024-05-03T04:36:01.503028Z"
    },
    "papermill": {
     "duration": 1.299119,
     "end_time": "2024-05-03T04:36:01.505920",
     "exception": false,
     "start_time": "2024-05-03T04:36:00.206801",
     "status": "completed"
    },
    "tags": []
   },
   "outputs": [
    {
     "name": "stdout",
     "output_type": "stream",
     "text": [
      "(1, 128, 128, 3)\n",
      "\u001b[1m1/1\u001b[0m \u001b[32m━━━━━━━━━━━━━━━━━━━━\u001b[0m\u001b[37m\u001b[0m \u001b[1m1s\u001b[0m 792ms/step\n"
     ]
    },
    {
     "data": {
      "text/plain": [
       "0"
      ]
     },
     "execution_count": 15,
     "metadata": {},
     "output_type": "execute_result"
    }
   ],
   "source": [
    "# random image testing\n",
    "input_arr = img_to_array(load_img('/kaggle/input/ffhq-face-data-set/thumbnails128x128/00001.png', target_size=(128,128,3))) / 255.0\n",
    "input_arr = np.expand_dims(input_arr, axis=0)\n",
    "print(input_arr.shape)\n",
    "\n",
    "np.argmax(best_model.predict(input_arr).round()[0])"
   ]
  },
  {
   "cell_type": "markdown",
   "id": "a2610622",
   "metadata": {
    "papermill": {
     "duration": 0.431443,
     "end_time": "2024-05-03T04:36:02.385133",
     "exception": false,
     "start_time": "2024-05-03T04:36:01.953690",
     "status": "completed"
    },
    "tags": []
   },
   "source": [
    "## Save the model"
   ]
  },
  {
   "cell_type": "code",
   "execution_count": 16,
   "id": "c1aad154",
   "metadata": {
    "execution": {
     "iopub.execute_input": "2024-05-03T04:36:03.312035Z",
     "iopub.status.busy": "2024-05-03T04:36:03.311131Z",
     "iopub.status.idle": "2024-05-03T04:36:03.508277Z",
     "shell.execute_reply": "2024-05-03T04:36:03.507492Z"
    },
    "papermill": {
     "duration": 0.634281,
     "end_time": "2024-05-03T04:36:03.510514",
     "exception": false,
     "start_time": "2024-05-03T04:36:02.876233",
     "status": "completed"
    },
    "tags": []
   },
   "outputs": [],
   "source": [
    "model.save('/kaggle/working/deepfake.h5')\n",
    "saved_model = tf.keras.models.load_model('/kaggle/working/deepfake.h5')"
   ]
  }
 ],
 "metadata": {
  "kaggle": {
   "accelerator": "gpu",
   "dataSources": [
    {
     "datasetId": 379454,
     "sourceId": 735991,
     "sourceType": "datasetVersion"
    },
    {
     "datasetId": 1789402,
     "sourceId": 2919163,
     "sourceType": "datasetVersion"
    }
   ],
   "dockerImageVersionId": 30698,
   "isGpuEnabled": true,
   "isInternetEnabled": true,
   "language": "python",
   "sourceType": "notebook"
  },
  "kernelspec": {
   "display_name": "Python 3",
   "language": "python",
   "name": "python3"
  },
  "language_info": {
   "codemirror_mode": {
    "name": "ipython",
    "version": 3
   },
   "file_extension": ".py",
   "mimetype": "text/x-python",
   "name": "python",
   "nbconvert_exporter": "python",
   "pygments_lexer": "ipython3",
   "version": "3.10.13"
  },
  "papermill": {
   "default_parameters": {},
   "duration": 499.589736,
   "end_time": "2024-05-03T04:36:06.460184",
   "environment_variables": {},
   "exception": null,
   "input_path": "__notebook__.ipynb",
   "output_path": "__notebook__.ipynb",
   "parameters": {},
   "start_time": "2024-05-03T04:27:46.870448",
   "version": "2.5.0"
  },
  "widgets": {
   "application/vnd.jupyter.widget-state+json": {
    "state": {
     "1a1a271621ec4dfd8e543545cdef3ebe": {
      "model_module": "@jupyter-widgets/base",
      "model_module_version": "1.2.0",
      "model_name": "LayoutModel",
      "state": {
       "_model_module": "@jupyter-widgets/base",
       "_model_module_version": "1.2.0",
       "_model_name": "LayoutModel",
       "_view_count": null,
       "_view_module": "@jupyter-widgets/base",
       "_view_module_version": "1.2.0",
       "_view_name": "LayoutView",
       "align_content": null,
       "align_items": null,
       "align_self": null,
       "border": null,
       "bottom": null,
       "display": null,
       "flex": null,
       "flex_flow": null,
       "grid_area": null,
       "grid_auto_columns": null,
       "grid_auto_flow": null,
       "grid_auto_rows": null,
       "grid_column": null,
       "grid_gap": null,
       "grid_row": null,
       "grid_template_areas": null,
       "grid_template_columns": null,
       "grid_template_rows": null,
       "height": null,
       "justify_content": null,
       "justify_items": null,
       "left": null,
       "margin": null,
       "max_height": null,
       "max_width": null,
       "min_height": null,
       "min_width": null,
       "object_fit": null,
       "object_position": null,
       "order": null,
       "overflow": null,
       "overflow_x": null,
       "overflow_y": null,
       "padding": null,
       "right": null,
       "top": null,
       "visibility": null,
       "width": null
      }
     },
     "1ae6cf195c584a748b6b5d26cfcf98b7": {
      "model_module": "@jupyter-widgets/base",
      "model_module_version": "1.2.0",
      "model_name": "LayoutModel",
      "state": {
       "_model_module": "@jupyter-widgets/base",
       "_model_module_version": "1.2.0",
       "_model_name": "LayoutModel",
       "_view_count": null,
       "_view_module": "@jupyter-widgets/base",
       "_view_module_version": "1.2.0",
       "_view_name": "LayoutView",
       "align_content": null,
       "align_items": null,
       "align_self": null,
       "border": null,
       "bottom": null,
       "display": null,
       "flex": null,
       "flex_flow": null,
       "grid_area": null,
       "grid_auto_columns": null,
       "grid_auto_flow": null,
       "grid_auto_rows": null,
       "grid_column": null,
       "grid_gap": null,
       "grid_row": null,
       "grid_template_areas": null,
       "grid_template_columns": null,
       "grid_template_rows": null,
       "height": null,
       "justify_content": null,
       "justify_items": null,
       "left": null,
       "margin": null,
       "max_height": null,
       "max_width": null,
       "min_height": null,
       "min_width": null,
       "object_fit": null,
       "object_position": null,
       "order": null,
       "overflow": null,
       "overflow_x": null,
       "overflow_y": null,
       "padding": null,
       "right": null,
       "top": null,
       "visibility": null,
       "width": null
      }
     },
     "1cdc58a6b39f4b609c4c9690c55f8132": {
      "model_module": "@jupyter-widgets/base",
      "model_module_version": "1.2.0",
      "model_name": "LayoutModel",
      "state": {
       "_model_module": "@jupyter-widgets/base",
       "_model_module_version": "1.2.0",
       "_model_name": "LayoutModel",
       "_view_count": null,
       "_view_module": "@jupyter-widgets/base",
       "_view_module_version": "1.2.0",
       "_view_name": "LayoutView",
       "align_content": null,
       "align_items": null,
       "align_self": null,
       "border": null,
       "bottom": null,
       "display": null,
       "flex": null,
       "flex_flow": null,
       "grid_area": null,
       "grid_auto_columns": null,
       "grid_auto_flow": null,
       "grid_auto_rows": null,
       "grid_column": null,
       "grid_gap": null,
       "grid_row": null,
       "grid_template_areas": null,
       "grid_template_columns": null,
       "grid_template_rows": null,
       "height": null,
       "justify_content": null,
       "justify_items": null,
       "left": null,
       "margin": null,
       "max_height": null,
       "max_width": null,
       "min_height": null,
       "min_width": null,
       "object_fit": null,
       "object_position": null,
       "order": null,
       "overflow": null,
       "overflow_x": null,
       "overflow_y": null,
       "padding": null,
       "right": null,
       "top": null,
       "visibility": null,
       "width": null
      }
     },
     "1e9cf89d1fcc4653a5ca1b19c194d968": {
      "model_module": "@jupyter-widgets/controls",
      "model_module_version": "1.5.0",
      "model_name": "DescriptionStyleModel",
      "state": {
       "_model_module": "@jupyter-widgets/controls",
       "_model_module_version": "1.5.0",
       "_model_name": "DescriptionStyleModel",
       "_view_count": null,
       "_view_module": "@jupyter-widgets/base",
       "_view_module_version": "1.2.0",
       "_view_name": "StyleView",
       "description_width": ""
      }
     },
     "260cacb7114c4c5a9edd363f7c5d95f6": {
      "model_module": "@jupyter-widgets/controls",
      "model_module_version": "1.5.0",
      "model_name": "ProgressStyleModel",
      "state": {
       "_model_module": "@jupyter-widgets/controls",
       "_model_module_version": "1.5.0",
       "_model_name": "ProgressStyleModel",
       "_view_count": null,
       "_view_module": "@jupyter-widgets/base",
       "_view_module_version": "1.2.0",
       "_view_name": "StyleView",
       "bar_color": null,
       "description_width": ""
      }
     },
     "2c0973d160854b43a4f8cb66574237ae": {
      "model_module": "@jupyter-widgets/base",
      "model_module_version": "1.2.0",
      "model_name": "LayoutModel",
      "state": {
       "_model_module": "@jupyter-widgets/base",
       "_model_module_version": "1.2.0",
       "_model_name": "LayoutModel",
       "_view_count": null,
       "_view_module": "@jupyter-widgets/base",
       "_view_module_version": "1.2.0",
       "_view_name": "LayoutView",
       "align_content": null,
       "align_items": null,
       "align_self": null,
       "border": null,
       "bottom": null,
       "display": null,
       "flex": null,
       "flex_flow": null,
       "grid_area": null,
       "grid_auto_columns": null,
       "grid_auto_flow": null,
       "grid_auto_rows": null,
       "grid_column": null,
       "grid_gap": null,
       "grid_row": null,
       "grid_template_areas": null,
       "grid_template_columns": null,
       "grid_template_rows": null,
       "height": null,
       "justify_content": null,
       "justify_items": null,
       "left": null,
       "margin": null,
       "max_height": null,
       "max_width": null,
       "min_height": null,
       "min_width": null,
       "object_fit": null,
       "object_position": null,
       "order": null,
       "overflow": null,
       "overflow_x": null,
       "overflow_y": null,
       "padding": null,
       "right": null,
       "top": null,
       "visibility": null,
       "width": null
      }
     },
     "2c4709dd8dea46f3b54e11e350c96fca": {
      "model_module": "@jupyter-widgets/controls",
      "model_module_version": "1.5.0",
      "model_name": "HTMLModel",
      "state": {
       "_dom_classes": [],
       "_model_module": "@jupyter-widgets/controls",
       "_model_module_version": "1.5.0",
       "_model_name": "HTMLModel",
       "_view_count": null,
       "_view_module": "@jupyter-widgets/controls",
       "_view_module_version": "1.5.0",
       "_view_name": "HTMLView",
       "description": "",
       "description_tooltip": null,
       "layout": "IPY_MODEL_1a1a271621ec4dfd8e543545cdef3ebe",
       "placeholder": "​",
       "style": "IPY_MODEL_e0941e9b7bc241c2b88e196ae11042e9",
       "value": "100%"
      }
     },
     "32ee2fcd79b64f9b88caa9d32ffb7165": {
      "model_module": "@jupyter-widgets/controls",
      "model_module_version": "1.5.0",
      "model_name": "HBoxModel",
      "state": {
       "_dom_classes": [],
       "_model_module": "@jupyter-widgets/controls",
       "_model_module_version": "1.5.0",
       "_model_name": "HBoxModel",
       "_view_count": null,
       "_view_module": "@jupyter-widgets/controls",
       "_view_module_version": "1.5.0",
       "_view_name": "HBoxView",
       "box_style": "",
       "children": [
        "IPY_MODEL_d7aa8c0541194c169b17ab90a9ec59c0",
        "IPY_MODEL_e5b16ab07bd1480d9551d22f65e824ea",
        "IPY_MODEL_89acbdcb437a4e33ab6b0657d65431e1"
       ],
       "layout": "IPY_MODEL_646f34289be04c2bb35314257999c326"
      }
     },
     "34420adb61314f55aa0f8772895b7825": {
      "model_module": "@jupyter-widgets/controls",
      "model_module_version": "1.5.0",
      "model_name": "ProgressStyleModel",
      "state": {
       "_model_module": "@jupyter-widgets/controls",
       "_model_module_version": "1.5.0",
       "_model_name": "ProgressStyleModel",
       "_view_count": null,
       "_view_module": "@jupyter-widgets/base",
       "_view_module_version": "1.2.0",
       "_view_name": "StyleView",
       "bar_color": null,
       "description_width": ""
      }
     },
     "3d9cca1ca2b14372a3228f6ff5ff54dc": {
      "model_module": "@jupyter-widgets/base",
      "model_module_version": "1.2.0",
      "model_name": "LayoutModel",
      "state": {
       "_model_module": "@jupyter-widgets/base",
       "_model_module_version": "1.2.0",
       "_model_name": "LayoutModel",
       "_view_count": null,
       "_view_module": "@jupyter-widgets/base",
       "_view_module_version": "1.2.0",
       "_view_name": "LayoutView",
       "align_content": null,
       "align_items": null,
       "align_self": null,
       "border": null,
       "bottom": null,
       "display": null,
       "flex": null,
       "flex_flow": null,
       "grid_area": null,
       "grid_auto_columns": null,
       "grid_auto_flow": null,
       "grid_auto_rows": null,
       "grid_column": null,
       "grid_gap": null,
       "grid_row": null,
       "grid_template_areas": null,
       "grid_template_columns": null,
       "grid_template_rows": null,
       "height": null,
       "justify_content": null,
       "justify_items": null,
       "left": null,
       "margin": null,
       "max_height": null,
       "max_width": null,
       "min_height": null,
       "min_width": null,
       "object_fit": null,
       "object_position": null,
       "order": null,
       "overflow": null,
       "overflow_x": null,
       "overflow_y": null,
       "padding": null,
       "right": null,
       "top": null,
       "visibility": null,
       "width": null
      }
     },
     "4630a33f5fef433c928ced6a2c2593b0": {
      "model_module": "@jupyter-widgets/controls",
      "model_module_version": "1.5.0",
      "model_name": "DescriptionStyleModel",
      "state": {
       "_model_module": "@jupyter-widgets/controls",
       "_model_module_version": "1.5.0",
       "_model_name": "DescriptionStyleModel",
       "_view_count": null,
       "_view_module": "@jupyter-widgets/base",
       "_view_module_version": "1.2.0",
       "_view_name": "StyleView",
       "description_width": ""
      }
     },
     "646f34289be04c2bb35314257999c326": {
      "model_module": "@jupyter-widgets/base",
      "model_module_version": "1.2.0",
      "model_name": "LayoutModel",
      "state": {
       "_model_module": "@jupyter-widgets/base",
       "_model_module_version": "1.2.0",
       "_model_name": "LayoutModel",
       "_view_count": null,
       "_view_module": "@jupyter-widgets/base",
       "_view_module_version": "1.2.0",
       "_view_name": "LayoutView",
       "align_content": null,
       "align_items": null,
       "align_self": null,
       "border": null,
       "bottom": null,
       "display": null,
       "flex": null,
       "flex_flow": null,
       "grid_area": null,
       "grid_auto_columns": null,
       "grid_auto_flow": null,
       "grid_auto_rows": null,
       "grid_column": null,
       "grid_gap": null,
       "grid_row": null,
       "grid_template_areas": null,
       "grid_template_columns": null,
       "grid_template_rows": null,
       "height": null,
       "justify_content": null,
       "justify_items": null,
       "left": null,
       "margin": null,
       "max_height": null,
       "max_width": null,
       "min_height": null,
       "min_width": null,
       "object_fit": null,
       "object_position": null,
       "order": null,
       "overflow": null,
       "overflow_x": null,
       "overflow_y": null,
       "padding": null,
       "right": null,
       "top": null,
       "visibility": null,
       "width": null
      }
     },
     "6d46fbff4f454bae8a386e2890cd6aee": {
      "model_module": "@jupyter-widgets/base",
      "model_module_version": "1.2.0",
      "model_name": "LayoutModel",
      "state": {
       "_model_module": "@jupyter-widgets/base",
       "_model_module_version": "1.2.0",
       "_model_name": "LayoutModel",
       "_view_count": null,
       "_view_module": "@jupyter-widgets/base",
       "_view_module_version": "1.2.0",
       "_view_name": "LayoutView",
       "align_content": null,
       "align_items": null,
       "align_self": null,
       "border": null,
       "bottom": null,
       "display": null,
       "flex": null,
       "flex_flow": null,
       "grid_area": null,
       "grid_auto_columns": null,
       "grid_auto_flow": null,
       "grid_auto_rows": null,
       "grid_column": null,
       "grid_gap": null,
       "grid_row": null,
       "grid_template_areas": null,
       "grid_template_columns": null,
       "grid_template_rows": null,
       "height": null,
       "justify_content": null,
       "justify_items": null,
       "left": null,
       "margin": null,
       "max_height": null,
       "max_width": null,
       "min_height": null,
       "min_width": null,
       "object_fit": null,
       "object_position": null,
       "order": null,
       "overflow": null,
       "overflow_x": null,
       "overflow_y": null,
       "padding": null,
       "right": null,
       "top": null,
       "visibility": null,
       "width": null
      }
     },
     "89acbdcb437a4e33ab6b0657d65431e1": {
      "model_module": "@jupyter-widgets/controls",
      "model_module_version": "1.5.0",
      "model_name": "HTMLModel",
      "state": {
       "_dom_classes": [],
       "_model_module": "@jupyter-widgets/controls",
       "_model_module_version": "1.5.0",
       "_model_name": "HTMLModel",
       "_view_count": null,
       "_view_module": "@jupyter-widgets/controls",
       "_view_module_version": "1.5.0",
       "_view_name": "HTMLView",
       "description": "",
       "description_tooltip": null,
       "layout": "IPY_MODEL_3d9cca1ca2b14372a3228f6ff5ff54dc",
       "placeholder": "​",
       "style": "IPY_MODEL_1e9cf89d1fcc4653a5ca1b19c194d968",
       "value": " 3000/3000 [00:17&lt;00:00, 176.67it/s]"
      }
     },
     "b5ee82844b614cf6aba62ca60616a3e5": {
      "model_module": "@jupyter-widgets/controls",
      "model_module_version": "1.5.0",
      "model_name": "HBoxModel",
      "state": {
       "_dom_classes": [],
       "_model_module": "@jupyter-widgets/controls",
       "_model_module_version": "1.5.0",
       "_model_name": "HBoxModel",
       "_view_count": null,
       "_view_module": "@jupyter-widgets/controls",
       "_view_module_version": "1.5.0",
       "_view_name": "HBoxView",
       "box_style": "",
       "children": [
        "IPY_MODEL_2c4709dd8dea46f3b54e11e350c96fca",
        "IPY_MODEL_d8242c797ca343dfaa4a555e04888193",
        "IPY_MODEL_bd789247e85a4d9d8cfb57d4b77e6c19"
       ],
       "layout": "IPY_MODEL_cb522dc1a40a40c4b1a8f8977c9ba767"
      }
     },
     "b712f7052e194c26be4b451d959eeba5": {
      "model_module": "@jupyter-widgets/controls",
      "model_module_version": "1.5.0",
      "model_name": "DescriptionStyleModel",
      "state": {
       "_model_module": "@jupyter-widgets/controls",
       "_model_module_version": "1.5.0",
       "_model_name": "DescriptionStyleModel",
       "_view_count": null,
       "_view_module": "@jupyter-widgets/base",
       "_view_module_version": "1.2.0",
       "_view_name": "StyleView",
       "description_width": ""
      }
     },
     "bd789247e85a4d9d8cfb57d4b77e6c19": {
      "model_module": "@jupyter-widgets/controls",
      "model_module_version": "1.5.0",
      "model_name": "HTMLModel",
      "state": {
       "_dom_classes": [],
       "_model_module": "@jupyter-widgets/controls",
       "_model_module_version": "1.5.0",
       "_model_name": "HTMLModel",
       "_view_count": null,
       "_view_module": "@jupyter-widgets/controls",
       "_view_module_version": "1.5.0",
       "_view_name": "HTMLView",
       "description": "",
       "description_tooltip": null,
       "layout": "IPY_MODEL_1ae6cf195c584a748b6b5d26cfcf98b7",
       "placeholder": "​",
       "style": "IPY_MODEL_b712f7052e194c26be4b451d959eeba5",
       "value": " 3000/3000 [02:07&lt;00:00, 22.67it/s]"
      }
     },
     "cb522dc1a40a40c4b1a8f8977c9ba767": {
      "model_module": "@jupyter-widgets/base",
      "model_module_version": "1.2.0",
      "model_name": "LayoutModel",
      "state": {
       "_model_module": "@jupyter-widgets/base",
       "_model_module_version": "1.2.0",
       "_model_name": "LayoutModel",
       "_view_count": null,
       "_view_module": "@jupyter-widgets/base",
       "_view_module_version": "1.2.0",
       "_view_name": "LayoutView",
       "align_content": null,
       "align_items": null,
       "align_self": null,
       "border": null,
       "bottom": null,
       "display": null,
       "flex": null,
       "flex_flow": null,
       "grid_area": null,
       "grid_auto_columns": null,
       "grid_auto_flow": null,
       "grid_auto_rows": null,
       "grid_column": null,
       "grid_gap": null,
       "grid_row": null,
       "grid_template_areas": null,
       "grid_template_columns": null,
       "grid_template_rows": null,
       "height": null,
       "justify_content": null,
       "justify_items": null,
       "left": null,
       "margin": null,
       "max_height": null,
       "max_width": null,
       "min_height": null,
       "min_width": null,
       "object_fit": null,
       "object_position": null,
       "order": null,
       "overflow": null,
       "overflow_x": null,
       "overflow_y": null,
       "padding": null,
       "right": null,
       "top": null,
       "visibility": null,
       "width": null
      }
     },
     "d7aa8c0541194c169b17ab90a9ec59c0": {
      "model_module": "@jupyter-widgets/controls",
      "model_module_version": "1.5.0",
      "model_name": "HTMLModel",
      "state": {
       "_dom_classes": [],
       "_model_module": "@jupyter-widgets/controls",
       "_model_module_version": "1.5.0",
       "_model_name": "HTMLModel",
       "_view_count": null,
       "_view_module": "@jupyter-widgets/controls",
       "_view_module_version": "1.5.0",
       "_view_name": "HTMLView",
       "description": "",
       "description_tooltip": null,
       "layout": "IPY_MODEL_6d46fbff4f454bae8a386e2890cd6aee",
       "placeholder": "​",
       "style": "IPY_MODEL_4630a33f5fef433c928ced6a2c2593b0",
       "value": "100%"
      }
     },
     "d8242c797ca343dfaa4a555e04888193": {
      "model_module": "@jupyter-widgets/controls",
      "model_module_version": "1.5.0",
      "model_name": "FloatProgressModel",
      "state": {
       "_dom_classes": [],
       "_model_module": "@jupyter-widgets/controls",
       "_model_module_version": "1.5.0",
       "_model_name": "FloatProgressModel",
       "_view_count": null,
       "_view_module": "@jupyter-widgets/controls",
       "_view_module_version": "1.5.0",
       "_view_name": "ProgressView",
       "bar_style": "success",
       "description": "",
       "description_tooltip": null,
       "layout": "IPY_MODEL_2c0973d160854b43a4f8cb66574237ae",
       "max": 3000.0,
       "min": 0.0,
       "orientation": "horizontal",
       "style": "IPY_MODEL_34420adb61314f55aa0f8772895b7825",
       "value": 3000.0
      }
     },
     "e0941e9b7bc241c2b88e196ae11042e9": {
      "model_module": "@jupyter-widgets/controls",
      "model_module_version": "1.5.0",
      "model_name": "DescriptionStyleModel",
      "state": {
       "_model_module": "@jupyter-widgets/controls",
       "_model_module_version": "1.5.0",
       "_model_name": "DescriptionStyleModel",
       "_view_count": null,
       "_view_module": "@jupyter-widgets/base",
       "_view_module_version": "1.2.0",
       "_view_name": "StyleView",
       "description_width": ""
      }
     },
     "e5b16ab07bd1480d9551d22f65e824ea": {
      "model_module": "@jupyter-widgets/controls",
      "model_module_version": "1.5.0",
      "model_name": "FloatProgressModel",
      "state": {
       "_dom_classes": [],
       "_model_module": "@jupyter-widgets/controls",
       "_model_module_version": "1.5.0",
       "_model_name": "FloatProgressModel",
       "_view_count": null,
       "_view_module": "@jupyter-widgets/controls",
       "_view_module_version": "1.5.0",
       "_view_name": "ProgressView",
       "bar_style": "success",
       "description": "",
       "description_tooltip": null,
       "layout": "IPY_MODEL_1cdc58a6b39f4b609c4c9690c55f8132",
       "max": 3000.0,
       "min": 0.0,
       "orientation": "horizontal",
       "style": "IPY_MODEL_260cacb7114c4c5a9edd363f7c5d95f6",
       "value": 3000.0
      }
     }
    },
    "version_major": 2,
    "version_minor": 0
   }
  }
 },
 "nbformat": 4,
 "nbformat_minor": 5
}
